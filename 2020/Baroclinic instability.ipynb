{
 "cells": [
  {
   "cell_type": "markdown",
   "metadata": {},
   "source": [
    "# Week 6: Development of a midlatitude cyclone through baroclinic instability\n",
    "*MAQ - 32806, Chiel van Heerwaarden, Imme Benedict, and Menno Veerman, and Chris Weijenborg 2022*\n",
    "\n",
    "In this assignment you will investigate the time evolution of a midlatitude cyclone over the Atlantic Ocean. For this, you will use ECMWF ERA5 data from 3 to 7 January 2014. The data has steps of 6 h and 4 pressure levels are contained: 850, 500, 300, and 200 hPa.\n",
    "___"
   ]
  },
  {
   "cell_type": "markdown",
   "metadata": {},
   "source": [
    "# Setting up Python and loading the data\n",
    "We start the tutorial by loading the required Python packages and setting the figure properties."
   ]
  },
  {
   "cell_type": "code",
   "execution_count": null,
   "metadata": {
    "code_folding": []
   },
   "outputs": [],
   "source": [
    "# Install a pip package in the current Jupyter kernel\n",
    "import sys\n",
    "!{sys.executable} -m pip install scipy cartopy netCDF4\n",
    "\n",
    "# Loading the packages.\n",
    "import numpy as np              # Numpy is the fundamental package for scientific computing in Python.\n",
    "import netCDF4 as nc            # NetCDF is the data format of the meteorological data that we use.\n",
    "import matplotlib.pyplot as plt # Matplotlib is a scientific plotting package.\n",
    "import datetime                 # Datetime is a package to deal with dates.\n",
    "import cartopy.crs as ccrs\n",
    "import cartopy\n",
    "import cmocean.cm as cmaps\n",
    "from cartopy.mpl.ticker import LongitudeFormatter, LatitudeFormatter\n",
    "from matplotlib.colors import LinearSegmentedColormap\n",
    "from ipywidgets import interact\n",
    "\n",
    "# The statement below enforces the plots to be put into this notebook, instead of in their own windows.\n",
    "%matplotlib inline"
   ]
  },
  {
   "cell_type": "code",
   "execution_count": null,
   "metadata": {
    "code_folding": []
   },
   "outputs": [],
   "source": [
    "plt.rcParams.update({'font.size': 11})          # Set the standard font size of the plots to 11pt.\n",
    "plt.rcParams.update({'figure.figsize': [13,5]}) # Set the standard figure size."
   ]
  },
  {
   "cell_type": "code",
   "execution_count": null,
   "metadata": {
    "code_folding": [
     0
    ]
   },
   "outputs": [],
   "source": [
    "# Create custom color map similar to the NCAR NCL WhiteBlueGreenYellowRed\n",
    "cdict = {'red':   ((   0/253., 255./255., 255./255.),\n",
    "                   (  36/253., 157./255., 157./255.),\n",
    "                   (  72/253.,  72./255.,  72./255.),\n",
    "                   ( 108/253.,  73./255.,  73./255.),\n",
    "                   ( 145/253., 250./255., 250./255.),\n",
    "                   ( 181/253., 245./255., 245./255.),\n",
    "                   ( 217/253., 211./255., 211./255.),\n",
    "                   ( 253/253., 146./255., 146./255.)),\n",
    "         'green': ((   0/253., 255./255., 255./255.),\n",
    "                   (  36/253., 218./255., 218./255.),\n",
    "                   (  72/253., 142./255., 142./255.),\n",
    "                   ( 108/253., 181./255., 181./255.),\n",
    "                   ( 145/253., 232./255., 232./255.),\n",
    "                   ( 181/253., 106./255., 106./255.),\n",
    "                   ( 217/253.,  31./255.,  31./255.),\n",
    "                   ( 253/253.,  21./255.,  21./255.)),\n",
    "         'blue':  ((   0/253., 255./255., 255./255.),\n",
    "                   (  36/253., 247./255., 247./255.),\n",
    "                   (  72/253., 202./255., 202./255.),\n",
    "                   ( 108/253.,  70./255.,  70./255.),\n",
    "                   ( 145/253.,  92./255.,  92./255.),\n",
    "                   ( 181/253.,  45./255.,  45./255.),\n",
    "                   ( 217/253.,  40./255.,  40./255.),\n",
    "                   ( 253/253.,  25./255.,  25./255.))}\n",
    "\n",
    "my_cmap = LinearSegmentedColormap('my_colormap', cdict,256)"
   ]
  },
  {
   "cell_type": "markdown",
   "metadata": {},
   "source": [
    "___\n",
    "Now, you load the data and read out the desired variables from a NetCDF file from the ECMWF ERA-Interim data archive. You are loading a file with data from 1 January 2016."
   ]
  },
  {
   "cell_type": "code",
   "execution_count": null,
   "metadata": {
    "code_folding": []
   },
   "outputs": [],
   "source": [
    "# Loading the ERA data.\n",
    "nc_file = nc.Dataset(\"shared/baroclinic.nc\", \"r\")\n",
    "lat = nc_file.variables[\"latitude\"][:]\n",
    "lon = nc_file.variables[\"longitude\"][:]\n",
    "p = nc_file.variables[\"level\"][:]*100.\n",
    "time = nc.num2date(\n",
    "    nc_file.variables[\"time\"][:], nc_file.variables[\"time\"].units,\n",
    "    only_use_cftime_datetimes=False, only_use_python_datetimes=False)\n",
    "\n",
    "# We load 3D fields of the two horizontal wind components, the geopotential and the temperature.\n",
    "u     = nc_file.variables[\"u\"][:,:,:,:]\n",
    "v     = nc_file.variables[\"v\"][:,:,:,:]\n",
    "omega = nc_file.variables[\"w\"][:,:,:,:]\n",
    "Phi   = nc_file.variables[\"z\"][:,:,:,:]\n",
    "T     = nc_file.variables[\"t\"][:,:,:,:]\n",
    "msl   = nc_file.variables[\"msl\"][:,:,:] # Mean sea level pressure.\n",
    "\n",
    "cp    = nc_file.variables[\"cp\"][:,:,:]  # Convective precipitation.\n",
    "lsp   = nc_file.variables[\"lsp\"][:,:,:] # Large-scale precipitation.\n",
    "pr = cp + lsp\n",
    "#del(cp, lsp)\n",
    "\n",
    "nc_file.close() # The file access is closed as no further data is needed now."
   ]
  },
  {
   "cell_type": "markdown",
   "metadata": {},
   "source": [
    "___\n",
    "# Plotting the temperature and geopotential on a map\n",
    "As a starting point you find below the temperature and geopotential at 500 hPa."
   ]
  },
  {
   "cell_type": "code",
   "execution_count": null,
   "metadata": {
    "code_folding": []
   },
   "outputs": [],
   "source": [
    "n = abs(p-50000).argmin()\n",
    "\n",
    "my_projection = ccrs.PlateCarree(central_longitude=0)\n",
    "\n",
    "def plot_map(nt=0):\n",
    "    fig1 = plt.figure()\n",
    "    ax1 = plt.subplot(111, projection=my_projection)\n",
    "\n",
    "    #ax1.add_feature(cartopy.feature.COASTLINE, linewidth=0.8)\n",
    "    ax1.coastlines('50m', linewidth=0.8)\n",
    "    ax1.add_feature(cartopy.feature.BORDERS, linestyle='-', linewidth=.2)\n",
    "\n",
    "    ax1.set_xticks(np.arange(-180, 181, 30), crs=my_projection)\n",
    "    ax1.set_yticks(np.arange(-90, 91, 30), crs=my_projection)\n",
    "    lon_formatter = LongitudeFormatter(zero_direction_label=True)\n",
    "    lat_formatter = LatitudeFormatter()\n",
    "    ax1.xaxis.set_major_formatter(lon_formatter)\n",
    "    ax1.yaxis.set_major_formatter(lat_formatter)\n",
    "\n",
    "    Tmin, Tmax = T[:,n,:,:].min(), T[:,n,:,:].max()\n",
    "    Phi_range = np.arange(0, 90000, 1000)\n",
    "    cb = ax1.pcolormesh(lon, lat, T[nt,n,:,:], cmap=my_cmap) # We plot a colormesh using the gist_ncar colormap.\n",
    "    fig1.colorbar(cb) # We add a colorbar to show the values of temperature.\n",
    "    cz = ax1.contour(lon, lat, Phi[nt,n,:,:], Phi_range, colors='w', linewidths=1.5) # We plot the geopotential in contours.\n",
    "    ax1.clabel(cz, fmt='%1.0f', fontsize=10.) # We add labels to the contour lines.\n",
    "    #cs = ax1.contour(lon, lat, msl[nt,:,:], 15, colors='k', linestyles=':', linewidths=1.5) # We plot the geopotential in contours.\n",
    "\n",
    "\n",
    "    ax1.set_title(r'T and $\\Phi$ at p = {:.0f} hPa at {:}'.format(p[n]/100., time[nt])); # We add a title to the plot.\n",
    "    fig1.tight_layout() # With this function we make the figure fit as good as possible.\n",
    "    \n",
    "interact(plot_map, nt=(0, u.shape[0]-1, 1));"
   ]
  },
  {
   "cell_type": "markdown",
   "metadata": {},
   "source": [
    "___\n",
    "Below you find an example of how to construct a time series of a statistical quantity. You will adapt this example later to study the cyclone strength."
   ]
  },
  {
   "cell_type": "code",
   "execution_count": null,
   "metadata": {},
   "outputs": [],
   "source": [
    "pr_max = pr.max(axis=(1,2))\n",
    "print(pr_max.shape)\n",
    "\n",
    "fig = plt.figure()\n",
    "ax1 = plt.subplot(111)\n",
    "ax1.plot(time, pr_max*1000, 'o-')\n",
    "ax1.set_xlabel('time')\n",
    "ax1.set_ylabel('mm')\n",
    "fig.tight_layout()"
   ]
  },
  {
   "cell_type": "markdown",
   "metadata": {},
   "source": [
    "Calculating gradients is slightly different compared to previous assignments, because you are dealing with a 4D array that has dimensions of `time`, `p`, `lat`, and `lon`, thus 4 axes. Below you can find an example how to calculate the geopotential $\\Phi$ gradients."
   ]
  },
  {
   "cell_type": "code",
   "execution_count": null,
   "metadata": {},
   "outputs": [],
   "source": [
    "a_earth = 6.37e6\n",
    "\n",
    "latrad = np.deg2rad(lat)\n",
    "lonrad = np.deg2rad(lon)\n",
    "\n",
    "# We initialize an array with the cosine of the latitude.\n",
    "cos_lat = np.cos(latrad)\n",
    "\n",
    "# Two arrays of zeros are initialized with the same shape as that of Z.\n",
    "dPhidx = np.zeros(Phi.shape)\n",
    "dPhidy = np.zeros(Phi.shape)\n",
    "\n",
    "dPhidx[:,:,:,:] = (a_earth*cos_lat[np.newaxis,np.newaxis,:,np.newaxis])**(-1) \\\n",
    "                * np.gradient(Phi, axis=3) / np.gradient(lonrad[np.newaxis,np.newaxis,np.newaxis,:], axis=3)\n",
    "dPhidy[:,:,:,:] = (a_earth)**(-1) \\\n",
    "                * np.gradient(Phi, axis=2) / np.gradient(latrad[np.newaxis,np.newaxis,:,np.newaxis], axis=2)"
   ]
  },
  {
   "cell_type": "markdown",
   "metadata": {},
   "source": [
    "___\n",
    "# Assignment\n",
    "In this final assignment, you will study the evolution of the cyclone, and repeat techniques and concepts of previous weeks. If it helps to zoom into the system in some of the plots, feel free to do so.\n",
    "\n",
    "## Time evolution of the cyclone through baroclinic instability\n",
    "Use the example plot to follow the evolution of the midlatitude cyclone that forms east of Canada.\n",
    "1. Describe the evolution of the geopotential and temperature of the cyclone at the 500 hPa from the first time step until the end. Can you observe the strenghtening and weakening of the cyclone?\n",
    "2. The field `msl` contains the mean sea level pressure. Make a plot of the time evolution of the minimum value of mean sea level pressure over time. Adapt the $xy$-plot above.\n",
    "3. Explain the figure. When does the minimum pressure occur? What happens faster, the strengthening or the weakening of the system?\n",
    "___\n",
    "\n",
    "## The connection between the upper atmosphere and the surface\n",
    "1. Plot a map of the divergence at 300 hPa and add contour lines (solid lines) of the geopotential, and contour lines (dotted lines) of the mean sea level pressure. Do this 12 h before the minimum pressure occurs. \n",
    "2. Is the low pressure system at the surface at the expected location with respect to the 300 hPa geopotential structure?\n",
    "___\n",
    "## The evolution of temperature fronts and precipitation\n",
    "1. Calculate the magnitude of the temperature gradient vector.\n",
    "2. Plot a map of the magnitude of the temperature gradient vector at 850 hPa. Add again contour lines of the geopotential (solid lines) at 300 hPa, and of the mean sea level pressure (dotted lines). Do this 12 h before the moment of the minimum mean sea level pressure, at the moment of minimum pressure, and 12 h after the moment.\n",
    "3. Do you observe the cold front and warm front? When does the occlusion occur?\n",
    "___\n",
    "## Precipitation in the cyclone.\n",
    "1. Plot maps with precipitation `pr` and vertical motion `omega` for the same three moments in time as the previous question.\n",
    "2. Where in the system does the most precipitation occur? What is the vertical velocity in those regions?\n",
    "\n",
    "## Temperature in the top of the troposphere\n",
    "1. Plot a map of temperature at 200 hPa at the moment of the minimum mean sea level pressure.\n",
    "2. Explain the structure near the cyclone.\n",
    "___\n",
    "Work out the assignment below."
   ]
  },
  {
   "cell_type": "code",
   "execution_count": null,
   "metadata": {},
   "outputs": [],
   "source": []
  },
  {
   "cell_type": "code",
   "execution_count": null,
   "metadata": {},
   "outputs": [],
   "source": [
    "p_min = msl.min(axis=-1).min(axis=-1)\n",
    "\n",
    "fig = plt.figure()\n",
    "ax1 = plt.subplot(111)\n",
    "ax1.plot(time, p_min, 'o-')\n",
    "fig.tight_layout()"
   ]
  },
  {
   "cell_type": "markdown",
   "metadata": {},
   "source": [
    "Study the system at the early development: 4 January 2017, 00:00:00 UTC. Is the system developing at its logical place?"
   ]
  },
  {
   "cell_type": "code",
   "execution_count": null,
   "metadata": {},
   "outputs": [],
   "source": [
    "nt = 4\n",
    "n = abs(p-30000).argmin()\n",
    "\n",
    "fig1 = plt.figure()\n",
    "ax1 = plt.subplot(111, projection=my_projection)\n",
    "\n",
    "ax1.coastlines('50m', linewidth=0.8)\n",
    "ax1.add_feature(cartopy.feature.BORDERS, linestyle='-', linewidth=.2)\n",
    "ax1.set_xticks(np.arange(-180, 181, 30), crs=my_projection)\n",
    "ax1.set_yticks(np.arange(-90, 91, 30), crs=my_projection)\n",
    "lon_formatter = LongitudeFormatter(zero_direction_label=True)\n",
    "lat_formatter = LatitudeFormatter()\n",
    "ax1.xaxis.set_major_formatter(lon_formatter)\n",
    "ax1.yaxis.set_major_formatter(lat_formatter)\n",
    "\n",
    "Tmin, Tmax = T[:,n,:,:].min(), T[:,n,:,:].max()\n",
    "Phi_range = np.arange(0, 110000, 2000)\n",
    "msl_range = np.arange(90000, 105000, 1000)\n",
    "#cb = ax1.pcolormesh(lon, lat, T[nt,n,:,:], cmap=plt.cm.viridis) # We plot a colormesh using the gist_ncar colormap.\n",
    "#fig1.colorbar(cb) # We add a colorbar to show the values of temperature.\n",
    "\n",
    "cz = ax1.contour(lon, lat, Phi[nt,n,:,:]/100, Phi_range/100, colors='k', linewidths=1.5) # We plot the geopotential in contours.\n",
    "ax1.clabel(cz, fmt='%1.0f', fontsize=10.) # We add labels to the contour lines.\n",
    "cs = ax1.contour(lon, lat, msl[nt,:,:]/100, msl_range/100, colors='b', linestyles=':', linewidths=1.5) # We plot the geopotential in contours.\n",
    "ax1.clabel(cs, fmt='%1.0f', fontsize=10.) # We add labels to the contour lines.\n",
    "\n",
    "ax1.set_title(r'T and $\\Phi$ at p = {:.0f} hPa at {:}'.format(p[n]/100., time[nt])); # We add a title to the plot.\n",
    "fig1.tight_layout() # With this function we make the figure fit as good as possible."
   ]
  },
  {
   "cell_type": "code",
   "execution_count": null,
   "metadata": {},
   "outputs": [],
   "source": [
    "Omega = 7.292e-5\n",
    "a_earth = 6.37e6\n",
    "g = 9.81\n",
    "R = 287."
   ]
  },
  {
   "cell_type": "code",
   "execution_count": null,
   "metadata": {},
   "outputs": [],
   "source": [
    "a_earth = 6.37e6\n",
    "\n",
    "latrad = np.deg2rad(lat)\n",
    "lonrad = np.deg2rad(lon)\n",
    "\n",
    "# We initialize an array with the cosine of the latitude.\n",
    "cos_lat = np.cos(latrad)\n",
    "\n",
    "# Two arrays of zeros are initialized with the same shape as that of Z.\n",
    "dPhidx = np.zeros(Phi.shape)\n",
    "dPhidy = np.zeros(Phi.shape)\n",
    "\n",
    "dPhidx[:,:,:,:] = (a_earth*cos_lat[np.newaxis,np.newaxis,:,np.newaxis])**(-1) \\\n",
    "                * np.gradient(Phi, axis=3) / np.gradient(lonrad[np.newaxis, np.newaxis, np.newaxis, :], axis=3)\n",
    "dPhidy[:,:,:,:] = (a_earth)**(-1) \\\n",
    "                * np.gradient(Phi, axis=2) / np.gradient(latrad[np.newaxis,np.newaxis,:,np.newaxis], axis=2)\n",
    "\n",
    "dudx = (a_earth*cos_lat[np.newaxis,np.newaxis,:,np.newaxis])**(-1) \\\n",
    "     * np.gradient(u, axis=3) / np.gradient(lonrad[np.newaxis, np.newaxis, np.newaxis, :], axis=3)\n",
    "dvdy = (a_earth)**(-1) \\\n",
    "     * np.gradient(v, axis=2) / np.gradient(latrad[np.newaxis,np.newaxis,:,np.newaxis], axis=2)\n",
    "div = dudx + dvdy\n",
    "    \n",
    "f = 2.*Omega*np.sin(latrad)\n",
    "ug = -(1./f[np.newaxis,np.newaxis,:,np.newaxis])*dPhidy\n",
    "vg =  (1./f[np.newaxis,np.newaxis,:,np.newaxis])*dPhidx\n",
    "Vg = (ug**2 + vg**2)**.5\n",
    "V = (u**2 + v**2)**.5"
   ]
  },
  {
   "cell_type": "code",
   "execution_count": null,
   "metadata": {},
   "outputs": [],
   "source": [
    "lon_min = -90\n",
    "lon_max = -10\n",
    "lat_min = 30\n",
    "lat_max = 65"
   ]
  },
  {
   "cell_type": "code",
   "execution_count": null,
   "metadata": {
    "code_folding": [
     0
    ]
   },
   "outputs": [],
   "source": [
    "# Divergence plot.\n",
    "nt = 4\n",
    "n = abs(p-30000).argmin()\n",
    "\n",
    "fig1 = plt.figure()\n",
    "ax1 = plt.subplot(111, projection=my_projection)\n",
    "\n",
    "ax1.coastlines('50m', linewidth=0.8)\n",
    "ax1.add_feature(cartopy.feature.BORDERS, linestyle='-', linewidth=.2)\n",
    "ax1.set_xticks(np.arange(-180, 181, 30), crs=my_projection)\n",
    "ax1.set_yticks(np.arange(-90, 91, 30), crs=my_projection)\n",
    "lon_formatter = LongitudeFormatter(zero_direction_label=True)\n",
    "lat_formatter = LatitudeFormatter()\n",
    "ax1.xaxis.set_major_formatter(lon_formatter)\n",
    "ax1.yaxis.set_major_formatter(lat_formatter)\n",
    "\n",
    "div_min, div_max = -2e-4, 2e-4\n",
    "Phi_range = np.arange(0, 110000, 2000)\n",
    "msl_range = np.arange(90000, 105000, 1000)\n",
    "cb = ax1.pcolormesh(lon, lat, div[nt,n,:,:], vmin=div_min, vmax=div_max, cmap=plt.cm.seismic)\n",
    "fig1.colorbar(cb) # We add a colorbar to show the values of temperature.\n",
    "\n",
    "cz = ax1.contour(lon, lat, Phi[nt,n,:,:]/100, Phi_range/100, colors='k', linewidths=1.5) # We plot the geopotential in contours.\n",
    "ax1.clabel(cz, fmt='%1.0f', fontsize=10.) # We add labels to the contour lines.\n",
    "cs = ax1.contour(lon, lat, msl[nt,:,:]/100, msl_range/100, colors='b', linestyles=':', linewidths=1.5) # We plot the geopotential in contours.\n",
    "#ax1.clabel(cs, fmt='%1.0f', fontsize=10.) # We add labels to the contour lines.\n",
    "\n",
    "ax1.set_title(r'T and $\\Phi$ at p = {:.0f} hPa at {:}'.format(p[n]/100., time[nt])); # We add a title to the plot.\n",
    "fig1.tight_layout() # With this function we make the figure fit as good as possible."
   ]
  },
  {
   "cell_type": "code",
   "execution_count": null,
   "metadata": {},
   "outputs": [],
   "source": [
    "dTdx = (a_earth*cos_lat[np.newaxis,np.newaxis,:,np.newaxis])**(-1) \\\n",
    "     * np.gradient(T, axis=3) / np.gradient(lonrad[np.newaxis, np.newaxis, np.newaxis, :], axis=3)\n",
    "dTdy = (a_earth)**(-1) \\\n",
    "     * np.gradient(T, axis=2) / np.gradient(latrad[np.newaxis,np.newaxis,:,np.newaxis], axis=2)\n",
    "Tgrad = (dTdx**2 + dTdy**2)**.5"
   ]
  },
  {
   "cell_type": "code",
   "execution_count": null,
   "metadata": {
    "code_folding": [
     0
    ]
   },
   "outputs": [],
   "source": [
    "# Omega plot.\n",
    "nt = 6\n",
    "n = abs(p-60000).argmin()\n",
    "n300 = abs(p-30000).argmin()\n",
    "\n",
    "fig1 = plt.figure()\n",
    "ax1 = plt.subplot(111, projection=my_projection)\n",
    "\n",
    "ax1.coastlines('50m', linewidth=0.8)\n",
    "ax1.add_feature(cartopy.feature.BORDERS, linestyle='-', linewidth=.2)\n",
    "ax1.set_xticks(np.arange(-180, 181, 30), crs=my_projection)\n",
    "ax1.set_yticks(np.arange(-90, 91, 30), crs=my_projection)\n",
    "lon_formatter = LongitudeFormatter(zero_direction_label=True)\n",
    "lat_formatter = LatitudeFormatter()\n",
    "ax1.xaxis.set_major_formatter(lon_formatter)\n",
    "ax1.yaxis.set_major_formatter(lat_formatter)\n",
    "\n",
    "Phi_range = np.arange(0, 110000, 2000)\n",
    "msl_range = np.arange(90000, 105000, 1000)\n",
    "cb = ax1.pcolormesh(lon, lat, omega[nt,n,:,:], cmap=plt.cm.seismic, vmin=-4, vmax=4)\n",
    "fig1.colorbar(cb) # We add a colorbar to show the values of temperature.\n",
    "\n",
    "cz = ax1.contour(lon, lat, Phi[nt,n300,:,:]/100, Phi_range/100, colors='k', linewidths=1.5) # We plot the geopotential in contours.\n",
    "#ax1.clabel(cz, fmt='%1.0f', fontsize=10.) # We add labels to the contour lines.\n",
    "cs = ax1.contour(lon, lat, msl[nt,:,:]/100, msl_range/100, colors='k', linestyles=':', linewidths=1.5) # We plot the geopotential in contours.\n",
    "#ax1.clabel(cs, fmt='%1.0f', fontsize=10.) # We add labels to the contour lines.\n",
    "ax1.set_xlim(lon_min, lon_max)\n",
    "ax1.set_ylim(lat_min, lat_max)\n",
    "ax1.set_title(r'T and $\\Phi$ at p = {:.0f} hPa at {:}'.format(p[n]/100., time[nt])); # We add a title to the plot.\n",
    "fig1.tight_layout() # With this function we make the figure fit as good as possible."
   ]
  },
  {
   "cell_type": "code",
   "execution_count": null,
   "metadata": {
    "code_folding": [
     0
    ]
   },
   "outputs": [],
   "source": [
    "# Fronts plot.\n",
    "nt = 4\n",
    "n = abs(p-85000).argmin()\n",
    "n300 = abs(p-30000).argmin()\n",
    "\n",
    "fig1 = plt.figure()\n",
    "ax1 = plt.subplot(111, projection=my_projection)\n",
    "\n",
    "ax1.coastlines('50m', linewidth=0.8)\n",
    "ax1.add_feature(cartopy.feature.BORDERS, linestyle='-', linewidth=.2)\n",
    "ax1.set_xticks(np.arange(-180, 181, 30), crs=my_projection)\n",
    "ax1.set_yticks(np.arange(-90, 91, 30), crs=my_projection)\n",
    "lon_formatter = LongitudeFormatter(zero_direction_label=True)\n",
    "lat_formatter = LatitudeFormatter()\n",
    "ax1.xaxis.set_major_formatter(lon_formatter)\n",
    "ax1.yaxis.set_major_formatter(lat_formatter)\n",
    "\n",
    "Phi_range = np.arange(0, 110000, 2000)\n",
    "msl_range = np.arange(90000, 105000, 1000)\n",
    "cb = ax1.pcolormesh(lon, lat, Tgrad[nt,n,:,:], cmap=my_cmap, vmin=0, vmax=1.6e-4)\n",
    "fig1.colorbar(cb) # We add a colorbar to show the values of temperature.\n",
    "\n",
    "cz = ax1.contour(lon, lat, Phi[nt,n300,:,:]/100, Phi_range/100, colors='k', linewidths=1.5) # We plot the geopotential in contours.\n",
    "#ax1.clabel(cz, fmt='%1.0f', fontsize=10.) # We add labels to the contour lines.\n",
    "cs = ax1.contour(lon, lat, msl[nt,:,:]/100, msl_range/100, colors='k', linestyles=':', linewidths=1.5) # We plot the geopotential in contours.\n",
    "#ax1.clabel(cs, fmt='%1.0f', fontsize=10.) # We add labels to the contour lines.\n",
    "ax1.set_xlim(lon_min, lon_max)\n",
    "ax1.set_ylim(lat_min, lat_max)\n",
    "ax1.set_title(r'T and $\\Phi$ at p = {:.0f} hPa at {:}'.format(p[n]/100., time[nt])); # We add a title to the plot.\n",
    "fig1.tight_layout() # With this function we make the figure fit as good as possible."
   ]
  },
  {
   "cell_type": "code",
   "execution_count": null,
   "metadata": {
    "code_folding": [
     0
    ]
   },
   "outputs": [],
   "source": [
    "# Precipitation plots.\n",
    "nt = 4\n",
    "n = abs(p-85000).argmin()\n",
    "n300 = abs(p-30000).argmin()\n",
    "\n",
    "# Convective precipitation.\n",
    "fig1 = plt.figure()\n",
    "ax1 = plt.subplot(111, projection=my_projection)\n",
    "\n",
    "ax1.coastlines('50m', linewidth=0.8)\n",
    "ax1.add_feature(cartopy.feature.BORDERS, linestyle='-', linewidth=.2)\n",
    "ax1.set_xticks(np.arange(-180, 181, 30), crs=my_projection)\n",
    "ax1.set_yticks(np.arange(-90, 91, 30), crs=my_projection)\n",
    "lon_formatter = LongitudeFormatter(zero_direction_label=True)\n",
    "lat_formatter = LatitudeFormatter()\n",
    "ax1.xaxis.set_major_formatter(lon_formatter)\n",
    "ax1.yaxis.set_major_formatter(lat_formatter)\n",
    "\n",
    "Phi_range = np.arange(0, 110000, 2000)\n",
    "msl_range = np.arange(90000, 105000, 1000)\n",
    "cb = ax1.pcolormesh(lon, lat, pr[nt,:,:]*1e3, cmap=cmaps.rain, vmin=0, vmax=4)\n",
    "fig1.colorbar(cb) # We add a colorbar to show the values of temperature.\n",
    "\n",
    "cz = ax1.contour(lon, lat, Phi[nt,n300,:,:]/100, Phi_range/100, colors='k', linewidths=1.5) # We plot the geopotential in contours.\n",
    "#ax1.clabel(cz, fmt='%1.0f', fontsize=10.) # We add labels to the contour lines.\n",
    "cs = ax1.contour(lon, lat, msl[nt,:,:]/100, msl_range/100, colors='k', linestyles=':', linewidths=1.5) # We plot the geopotential in contours.\n",
    "#ax1.clabel(cs, fmt='%1.0f', fontsize=10.) # We add labels to the contour lines.\n",
    "#ax1.set_xlim(lon_min, lon_max)\n",
    "#ax1.set_ylim(lat_min, lat_max)\n",
    "ax1.set_title(r'T and $\\Phi$ at p = {:.0f} hPa at {:}'.format(p[n]/100., time[nt])); # We add a title to the plot.\n",
    "fig1.tight_layout() # With this function we make the figure fit as good as possible.\n",
    "\n",
    "# Large-scale precipitation.\n",
    "fig1 = plt.figure()\n",
    "ax1 = plt.subplot(111, projection=my_projection)\n",
    "\n",
    "ax1.coastlines('50m', linewidth=0.8)\n",
    "ax1.add_feature(cartopy.feature.BORDERS, linestyle='-', linewidth=.2)\n",
    "ax1.set_xticks(np.arange(-180, 181, 30), crs=my_projection)\n",
    "ax1.set_yticks(np.arange(-90, 91, 30), crs=my_projection)\n",
    "lon_formatter = LongitudeFormatter(zero_direction_label=True)\n",
    "lat_formatter = LatitudeFormatter()\n",
    "ax1.xaxis.set_major_formatter(lon_formatter)\n",
    "ax1.yaxis.set_major_formatter(lat_formatter)\n",
    "\n",
    "Phi_range = np.arange(0, 110000, 2000)\n",
    "msl_range = np.arange(90000, 105000, 1000)\n",
    "cb = ax1.pcolormesh(lon, lat, lsp[nt,:,:]*1e3, cmap=cmaps.rain, vmin=0, vmax=4)\n",
    "fig1.colorbar(cb) # We add a colorbar to show the values of temperature.\n",
    "\n",
    "cz = ax1.contour(lon, lat, Phi[nt,n300,:,:]/100, Phi_range/100, colors='k', linewidths=1.5) # We plot the geopotential in contours.\n",
    "#ax1.clabel(cz, fmt='%1.0f', fontsize=10.) # We add labels to the contour lines.\n",
    "cs = ax1.contour(lon, lat, msl[nt,:,:]/100, msl_range/100, colors='k', linestyles=':', linewidths=1.5) # We plot the geopotential in contours.\n",
    "#ax1.clabel(cs, fmt='%1.0f', fontsize=10.) # We add labels to the contour lines.\n",
    "#ax1.set_xlim(lon_min, lon_max)\n",
    "#ax1.set_ylim(lat_min, lat_max)\n",
    "ax1.set_title(r'T and $\\Phi$ at p = {:.0f} hPa at {:}'.format(p[n]/100., time[nt])); # We add a title to the plot.\n",
    "fig1.tight_layout() # With this function we make the figure fit as good as possible.\n",
    "\n",
    "# Total precipitation.\n",
    "#pr = cp + lsp\n",
    "\n",
    "fig1 = plt.figure()\n",
    "ax1 = plt.subplot(111, projection=my_projection)\n",
    "\n",
    "ax1.coastlines('50m', linewidth=0.8)\n",
    "ax1.add_feature(cartopy.feature.BORDERS, linestyle='-', linewidth=.2)\n",
    "ax1.set_xticks(np.arange(-180, 181, 30), crs=my_projection)\n",
    "ax1.set_yticks(np.arange(-90, 91, 30), crs=my_projection)\n",
    "lon_formatter = LongitudeFormatter(zero_direction_label=True)\n",
    "lat_formatter = LatitudeFormatter()\n",
    "ax1.xaxis.set_major_formatter(lon_formatter)\n",
    "ax1.yaxis.set_major_formatter(lat_formatter)\n",
    "\n",
    "Phi_range = np.arange(0, 110000, 2000)\n",
    "msl_range = np.arange(90000, 105000, 1000)\n",
    "cb = ax1.pcolormesh(lon, lat, cp[nt,:,:]*1e3, cmap=cmaps.rain, vmin=0, vmax=4) #my_cmap\n",
    "fig1.colorbar(cb) # We add a colorbar to show the values of temperature.\n",
    "\n",
    "cz = ax1.contour(lon, lat, Phi[nt,n300,:,:]/100, Phi_range/100, colors='k', linewidths=1.5) # We plot the geopotential in contours.\n",
    "#ax1.clabel(cz, fmt='%1.0f', fontsize=10.) # We add labels to the contour lines.\n",
    "cs = ax1.contour(lon, lat, msl[nt,:,:]/100, msl_range/100, colors='k', linestyles=':', linewidths=1.5) # We plot the geopotential in contours.\n",
    "#ax1.clabel(cs, fmt='%1.0f', fontsize=10.) # We add labels to the contour lines.\n",
    "#ax1.set_xlim(lon_min, lon_max)\n",
    "#ax1.set_ylim(lat_min, lat_max)\n",
    "ax1.set_title(r'T and $\\Phi$ at p = {:.0f} hPa at {:}'.format(p[n]/100., time[nt])); # We add a title to the plot.\n",
    "fig1.tight_layout() # With this function we make the figure fit as good as possible."
   ]
  },
  {
   "cell_type": "code",
   "execution_count": null,
   "metadata": {},
   "outputs": [],
   "source": [
    "# Q-vector\n",
    "dugdx = (a_earth*cos_lat[np.newaxis,np.newaxis,:,np.newaxis])**(-1) \\\n",
    "      * np.gradient(ug, axis=3) / np.gradient(lonrad[np.newaxis, np.newaxis, np.newaxis, :], axis=3)\n",
    "dvgdx = (a_earth*cos_lat[np.newaxis,np.newaxis,:,np.newaxis])**(-1) \\\n",
    "      * np.gradient(vg, axis=3) / np.gradient(lonrad[np.newaxis, np.newaxis, np.newaxis, :], axis=3)\n",
    "dugdy = (a_earth)**(-1) \\\n",
    "      * np.gradient(ug, axis=2) / np.gradient(latrad[np.newaxis,np.newaxis,:,np.newaxis], axis=2)\n",
    "dvgdy = (a_earth)**(-1) \\\n",
    "      * np.gradient(vg, axis=2) / np.gradient(latrad[np.newaxis,np.newaxis,:,np.newaxis], axis=2)\n",
    "\n",
    "Qi = -R/p[np.newaxis,:,np.newaxis,np.newaxis]*(dugdx*dTdx + dvgdx*dTdy)\n",
    "Qj = -R/p[np.newaxis,:,np.newaxis,np.newaxis]*(dugdy*dTdx + dvgdy*dTdy)\n",
    "dQidx = (a_earth*cos_lat[np.newaxis,np.newaxis,:,np.newaxis])**(-1) \\\n",
    "      * np.gradient(Qi, axis=3) / np.gradient(lonrad[np.newaxis, np.newaxis, np.newaxis, :], axis=3)\n",
    "dQjdy = (a_earth)**(-1) \\\n",
    "      * np.gradient(Qj, axis=2) / np.gradient(latrad[np.newaxis,np.newaxis,:,np.newaxis], axis=2)\n",
    "divQ = dQidx + dQjdy"
   ]
  },
  {
   "cell_type": "code",
   "execution_count": null,
   "metadata": {},
   "outputs": [],
   "source": [
    "dvdx = (a_earth*cos_lat[np.newaxis,np.newaxis,:,np.newaxis])**(-1) \\\n",
    "     * np.gradient(v, axis=3) / np.gradient(lonrad[np.newaxis, np.newaxis, np.newaxis, :], axis=3)\n",
    "\n",
    "dudy = (a_earth)**(-1) \\\n",
    "     * np.gradient(u, axis=2) / np.gradient(latrad[np.newaxis,np.newaxis,:,np.newaxis], axis=2)\n",
    "\n",
    "zeta = dvdx - dudy"
   ]
  },
  {
   "cell_type": "code",
   "execution_count": null,
   "metadata": {},
   "outputs": [],
   "source": [
    "nt = 4\n",
    "n = abs(p-50000).argmin()\n",
    "\n",
    "fig1 = plt.figure()\n",
    "ax1 = plt.subplot(111, projection=my_projection)\n",
    "\n",
    "ax1.coastlines('50m', linewidth=0.8)\n",
    "ax1.add_feature(cartopy.feature.BORDERS, linestyle='-', linewidth=.2)\n",
    "ax1.set_xticks(np.arange(-180, 181, 30), crs=my_projection)\n",
    "ax1.set_yticks(np.arange(-90, 91, 30), crs=my_projection)\n",
    "lon_formatter = LongitudeFormatter(zero_direction_label=True)\n",
    "lat_formatter = LatitudeFormatter()\n",
    "ax1.xaxis.set_major_formatter(lon_formatter)\n",
    "ax1.yaxis.set_major_formatter(lat_formatter)\n",
    "\n",
    "Phi_range = np.arange(0, 110000, 1000)\n",
    "msl_range = np.arange(90000, 105000, 1000)\n",
    "cb = ax1.pcolormesh(lon, lat, zeta[nt,n,:,:], cmap=plt.cm.seismic, vmin=-3e-4, vmax=3e-4)\n",
    "fig1.colorbar(cb) # We add a colorbar to show the values of temperature.\n",
    "\n",
    "cz = ax1.contour(lon, lat, Phi[nt,n,:,:]/100, Phi_range/100, colors='k', linewidths=1.5) # We plot the geopotential in contours.\n",
    "ax1.clabel(cz, fmt='%1.0f', fontsize=10.) # We add labels to the contour lines.\n",
    "cs = ax1.contour(lon, lat, msl[nt,:,:]/100, msl_range/100, colors='k', linestyles=':', linewidths=1.5) # We plot the geopotential in contours.\n",
    "ax1.clabel(cs, fmt='%1.0f', fontsize=10.) # We add labels to the contour lines.\n",
    "#ax1.set_xlim(lon_min, lon_max)\n",
    "#ax1.set_ylim(lat_min, lat_max)\n",
    "ax1.set_title(r'T and $\\Phi$ at p = {:.0f} hPa at {:}'.format(p[n]/100., time[nt])); # We add a title to the plot.\n",
    "fig1.tight_layout() "
   ]
  },
  {
   "cell_type": "code",
   "execution_count": null,
   "metadata": {
    "scrolled": true
   },
   "outputs": [],
   "source": [
    "nt = 6\n",
    "n = abs(p-20000).argmin()\n",
    "\n",
    "fig1 = plt.figure()\n",
    "ax1 = plt.subplot(111, projection=my_projection)\n",
    "\n",
    "ax1.coastlines('50m', linewidth=0.8)\n",
    "ax1.add_feature(cartopy.feature.BORDERS, linestyle='-', linewidth=.2)\n",
    "ax1.set_xticks(np.arange(-180, 181, 30), crs=my_projection)\n",
    "ax1.set_yticks(np.arange(-90, 91, 30), crs=my_projection)\n",
    "lon_formatter = LongitudeFormatter(zero_direction_label=True)\n",
    "lat_formatter = LatitudeFormatter()\n",
    "ax1.xaxis.set_major_formatter(lon_formatter)\n",
    "ax1.yaxis.set_major_formatter(lat_formatter)\n",
    "\n",
    "Phi_range = np.arange(0, 110000, 1500)\n",
    "msl_range = np.arange(90000, 105000, 1000)\n",
    "cb = ax1.pcolormesh(lon, lat, T[nt,n,:,:], cmap=my_cmap)\n",
    "fig1.colorbar(cb) # We add a colorbar to show the values of temperature.\n",
    "\n",
    "cz = ax1.contour(lon, lat, Phi[nt,n300,:,:]/100, Phi_range/100, colors='w', linewidths=1.5) # We plot the geopotential in contours.\n",
    "#ax1.clabel(cz, fmt='%1.0f', fontsize=10.) # We add labels to the contour lines.\n",
    "ax1.set_title(r'T and $\\Phi$ at p = {:.0f} hPa at {:}'.format(p[n]/100., time[nt])); # We add a title to the plot.\n",
    "fig1.tight_layout() "
   ]
  },
  {
   "cell_type": "code",
   "execution_count": null,
   "metadata": {
    "code_folding": []
   },
   "outputs": [],
   "source": [
    "# Q-vector plot\n",
    "#lon_min, lon_max, lat_min, lat_max = -90, -40, 30, 60\n",
    "nt = 4\n",
    "n = abs(p-85000).argmin()\n",
    "\n",
    "fig1 = plt.figure()\n",
    "ax1 = plt.subplot(111, projection=my_projection)\n",
    "\n",
    "ax1.coastlines('50m', linewidth=0.8)\n",
    "ax1.add_feature(cartopy.feature.BORDERS, linestyle='-', linewidth=.2)\n",
    "ax1.set_xticks(np.arange(-180, 181, 10), crs=my_projection)\n",
    "ax1.set_yticks(np.arange(-90, 91, 10), crs=my_projection)\n",
    "lon_formatter = LongitudeFormatter(zero_direction_label=True)\n",
    "lat_formatter = LatitudeFormatter()\n",
    "ax1.xaxis.set_major_formatter(lon_formatter)\n",
    "ax1.yaxis.set_major_formatter(lat_formatter)\n",
    "\n",
    "Phi_range = np.arange(0, 110000, 2000)\n",
    "msl_range = np.arange(90000, 105000, 1000)\n",
    "cb = ax1.pcolormesh(lon, lat, divQ[nt,n,:,:], cmap=plt.cm.seismic, vmin=-1e-14, vmax=1.e-14)\n",
    "fig1.colorbar(cb) # We add a colorbar to show the values of temperature.\n",
    "nq = 2\n",
    "lons, lats = np.meshgrid(lon, lat)\n",
    "qu = ax1.quiver(lons[::nq,::nq], lats[::nq,::nq], Qi[nt,n,::nq,::nq], Qj[nt,n,::nq,::nq],\\\n",
    "                pivot='mid', width=1.2e-3, scale=5e-9)\n",
    "cz = ax1.contour(lon, lat, Phi[nt,n,:,:]/100, Phi_range/100, colors='k', linewidths=1.5) # We plot the geopotential in contours.\n",
    "#ax1.clabel(cz, fmt='%1.0f', fontsize=10.) # We add labels to the contour lines.\n",
    "#cs = ax1.contour(lon, lat, msl[nt,:,:]/100, msl_range/100, colors='k', linestyles=':', linewidths=1.5) # We plot the geopotential in contours.\n",
    "#ax1.clabel(cs, fmt='%1.0f', fontsize=10.) # We add labels to the contour lines.\n",
    "ax1.set_xlim(lon_min, lon_max)\n",
    "ax1.set_ylim(lat_min, lat_max)\n",
    "ax1.set_title(r'T and $\\Phi$ at p = {:.0f} hPa at {:}'.format(p[n]/100., time[nt])); # We add a title to the plot.\n",
    "fig1.tight_layout() # With this function we make the figure fit as good as possible."
   ]
  },
  {
   "cell_type": "markdown",
   "metadata": {},
   "source": [
    "---"
   ]
  }
 ],
 "metadata": {
  "kernelspec": {
   "display_name": "Python 3 (ipykernel)",
   "language": "python",
   "name": "python3"
  },
  "language_info": {
   "codemirror_mode": {
    "name": "ipython",
    "version": 3
   },
   "file_extension": ".py",
   "mimetype": "text/x-python",
   "name": "python",
   "nbconvert_exporter": "python",
   "pygments_lexer": "ipython3",
   "version": "3.7.10"
  },
  "toc": {
   "colors": {
    "hover_highlight": "#DAA520",
    "navigate_num": "#000000",
    "navigate_text": "#333333",
    "running_highlight": "#FF0000",
    "selected_highlight": "#FFD700",
    "sidebar_border": "#EEEEEE",
    "wrapper_background": "#FFFFFF"
   },
   "moveMenuLeft": true,
   "nav_menu": {
    "height": "120px",
    "width": "252px"
   },
   "navigate_menu": true,
   "number_sections": true,
   "sideBar": true,
   "threshold": 4,
   "toc_cell": false,
   "toc_section_display": "block",
   "toc_window_display": false,
   "widenNotebook": false
  },
  "varInspector": {
   "cols": {
    "lenName": 16,
    "lenType": 16,
    "lenVar": 40
   },
   "kernels_config": {
    "python": {
     "delete_cmd_postfix": "",
     "delete_cmd_prefix": "del ",
     "library": "var_list.py",
     "varRefreshCmd": "print(var_dic_list())"
    },
    "r": {
     "delete_cmd_postfix": ") ",
     "delete_cmd_prefix": "rm(",
     "library": "var_list.r",
     "varRefreshCmd": "cat(var_dic_list()) "
    }
   },
   "types_to_exclude": [
    "module",
    "function",
    "builtin_function_or_method",
    "instance",
    "_Feature"
   ],
   "window_display": false
  }
 },
 "nbformat": 4,
 "nbformat_minor": 4
}
