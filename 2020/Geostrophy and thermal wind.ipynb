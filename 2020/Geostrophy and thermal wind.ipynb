{
 "cells": [
  {
   "cell_type": "markdown",
   "metadata": {},
   "source": [
    "# Week 2: Geostrophy and thermal wind balance\n",
    "*MAQ - 32806, Chiel van Heerwaarden, Imme Benedict, and Menno Veerman 2018-2020*\n",
    "\n",
    "In this assignment you will investigate whether the large-scale flow is in geostrophic and thermal wind balance. For this, you will use ECMWF ERA-Interim data from the 1st of January 2016 3:00.\n",
    "___"
   ]
  },
  {
   "cell_type": "markdown",
   "metadata": {},
   "source": [
    "# Setting up Python and loading the data\n",
    "We start the tutorial by loading the required Python packages and setting the figure properties."
   ]
  },
  {
   "cell_type": "code",
   "execution_count": null,
   "metadata": {
    "code_folding": []
   },
   "outputs": [],
   "source": [
    "# Install a pip package in the current Jupyter kernel\n",
    "import sys\n",
    "!{sys.executable} -m pip install scipy cartopy netCDF4\n",
    "\n",
    "# Loading the packages.\n",
    "import numpy as np              # Numpy is the fundamental package for scientific computing in Python.\n",
    "import netCDF4 as nc            # NetCDF is the data format of the meteorological data that we use.\n",
    "import matplotlib.pyplot as plt # Matplotlib is a scientific plotting package.\n",
    "import datetime                 # Datetime is a package to deal with dates.\n",
    "import cartopy.crs as ccrs\n",
    "import cartopy\n",
    "from cartopy.mpl.ticker import LongitudeFormatter, LatitudeFormatter\n",
    "from matplotlib.colors import LinearSegmentedColormap\n",
    "\n",
    "# The statement below enforces the plots to be put into this notebook, instead of in their own windows.\n",
    "%matplotlib inline"
   ]
  },
  {
   "cell_type": "code",
   "execution_count": null,
   "metadata": {
    "code_folding": []
   },
   "outputs": [],
   "source": [
    "plt.rcParams.update({'font.size': 11})          # Set the standard font size of the plots to 11pt.\n",
    "plt.rcParams.update({'figure.figsize': [15,5]}) # Set the standard figure size."
   ]
  },
  {
   "cell_type": "code",
   "execution_count": null,
   "metadata": {
    "code_folding": [
     0
    ]
   },
   "outputs": [],
   "source": [
    "# Create custom color map similar to the NCAR NCL WhiteBlueGreenYellowRed\n",
    "cdict = {'red':   ((   0/253., 255./255., 255./255.),\n",
    "                   (  36/253., 157./255., 157./255.),\n",
    "                   (  72/253.,  72./255.,  72./255.),\n",
    "                   ( 108/253.,  73./255.,  73./255.),\n",
    "                   ( 145/253., 250./255., 250./255.),\n",
    "                   ( 181/253., 245./255., 245./255.),\n",
    "                   ( 217/253., 211./255., 211./255.),\n",
    "                   ( 253/253., 146./255., 146./255.)),\n",
    "         'green': ((   0/253., 255./255., 255./255.),\n",
    "                   (  36/253., 218./255., 218./255.),\n",
    "                   (  72/253., 142./255., 142./255.),\n",
    "                   ( 108/253., 181./255., 181./255.),\n",
    "                   ( 145/253., 232./255., 232./255.),\n",
    "                   ( 181/253., 106./255., 106./255.),\n",
    "                   ( 217/253.,  31./255.,  31./255.),\n",
    "                   ( 253/253.,  21./255.,  21./255.)),\n",
    "         'blue':  ((   0/253., 255./255., 255./255.),\n",
    "                   (  36/253., 247./255., 247./255.),\n",
    "                   (  72/253., 202./255., 202./255.),\n",
    "                   ( 108/253.,  70./255.,  70./255.),\n",
    "                   ( 145/253.,  92./255.,  92./255.),\n",
    "                   ( 181/253.,  45./255.,  45./255.),\n",
    "                   ( 217/253.,  40./255.,  40./255.),\n",
    "                   ( 253/253.,  25./255.,  25./255.))}\n",
    "\n",
    "my_cmap = LinearSegmentedColormap('my_colormap', cdict,256)"
   ]
  },
  {
   "cell_type": "markdown",
   "metadata": {},
   "source": [
    "___\n",
    "Now, you load the data and read out the desired variables from a NetCDF file from the ECMWF ERA-Interim data archive. You are loading a file with data from 1 January 2016."
   ]
  },
  {
   "cell_type": "code",
   "execution_count": null,
   "metadata": {
    "code_folding": [
     0
    ]
   },
   "outputs": [],
   "source": [
    "# Loading the ERA data.\n",
    "nc_file = nc.Dataset(\"shared/era_data.nc\", \"r\")\n",
    "lat = nc_file.variables[\"latitude\"][:]\n",
    "lon = nc_file.variables[\"longitude\"][:]\n",
    "p = nc_file.variables[\"level\"][:]*100.\n",
    "t = 0\n",
    "time = nc.num2date(nc_file.variables[\"time\"][t], nc_file.variables[\"time\"].units)\n",
    "print(\"The time is: {}\".format(time))\n",
    "\n",
    "# We define the step for the quivering.\n",
    "nqstep = 4\n",
    "\n",
    "# With the code below, we roll the map, to get the 0 meridian,\n",
    "# rather than the Pacific in the middle.\n",
    "nroll = lon.size//2\n",
    "lon = np.roll(lon, nroll)\n",
    "lon = np.where(lon>=180., lon-360., lon)\n",
    "\n",
    "# We load 3D fields of the two horizontal wind components, the geopotential and the temperature.\n",
    "u     = np.roll(nc_file.variables[\"u\"][t,:,:,:], nroll, -1)\n",
    "v     = np.roll(nc_file.variables[\"v\"][t,:,:,:], nroll, -1)\n",
    "Phi   = np.roll(nc_file.variables[\"z\"][t,:,:,:], nroll, -1)\n",
    "T     = np.roll(nc_file.variables[\"t\"][t,:,:,:], nroll, -1)\n",
    "\n",
    "nc_file.close() # The file access is closed as no further data is needed now."
   ]
  },
  {
   "cell_type": "code",
   "execution_count": null,
   "metadata": {},
   "outputs": [],
   "source": [
    "lon_start = -80.\n",
    "lon_end   =  80.\n",
    "lat_start =  5.\n",
    "lat_end   =  75."
   ]
  },
  {
   "cell_type": "markdown",
   "metadata": {},
   "source": [
    "___\n",
    "# Plotting the temperature and geopotential on a map\n",
    "As a starting point you find below the temperature and geopotential at 500 hPa."
   ]
  },
  {
   "cell_type": "code",
   "execution_count": null,
   "metadata": {},
   "outputs": [],
   "source": [
    "p_plot = 50000.\n",
    "n = abs(p-p_plot).argmin()\n",
    "nq = nqstep # In the quiver plot we take steps of nq, otherwise there are too many arrows.\n",
    "\n",
    "my_projection = ccrs.PlateCarree(central_longitude=0)\n",
    "\n",
    "fig1 = plt.figure()\n",
    "ax1 = plt.subplot(111, projection=my_projection)\n",
    "\n",
    "ax1.set_xticks(np.arange(-180, 181, 30), crs=my_projection)\n",
    "ax1.set_yticks(np.arange(-90, 91, 30), crs=my_projection)\n",
    "lon_formatter = LongitudeFormatter(zero_direction_label=True)\n",
    "lat_formatter = LatitudeFormatter()\n",
    "ax1.xaxis.set_major_formatter(lon_formatter)\n",
    "ax1.yaxis.set_major_formatter(lat_formatter)\n",
    "\n",
    "cb = ax1.contourf(lon, lat, T[n,:,:], 15, cmap=my_cmap) # We plot a colormesh using the gist_ncar colormap.\n",
    "fig1.colorbar(cb) # We add a colorbar to show the values of temperature.\n",
    "lons, lats = np.meshgrid(lon, lat)\n",
    "qu = ax1.quiver(lons[::nq, ::nq], lats[::nq, ::nq], u[n,::nq,::nq], v[n,::nq,::nq],\\\n",
    "                pivot='mid', width=1.2e-3, scale=1000.)\n",
    "cz = ax1.contour(lon, lat, Phi[n,:,:], 15, colors='w', linewidths=1.5) # We plot the geopotential in contours.\n",
    "\n",
    "ax1.add_feature(cartopy.feature.COASTLINE, linewidth=0.8)\n",
    "ax1.add_feature(cartopy.feature.BORDERS, linestyle='-', linewidth=.2)\n",
    "\n",
    "ax1.clabel(cz, fmt='%1.0f', fontsize=10.) # We add labels to the contour lines.\n",
    "ax1.set_title(r'T and $\\Phi$ at p = {0:.0f} hPa'.format(p[n]/100.)); # We add a title to the plot.\n",
    "ax1.set_xlim(lon_start, lon_end)\n",
    "ax1.set_ylim(lat_start, lat_end)\n",
    "#fig1.tight_layout() # With this function we make the figure fit as good as possible."
   ]
  },
  {
   "cell_type": "markdown",
   "metadata": {},
   "source": [
    "___\n",
    "# Assignment\n",
    "In this assignment you are going to verify the existence of geostrophic wind balance and thermal wind balance. The instructions below give you some hints how to proceed. You are free to plot everything that you consider helpful in this task. Work out the question in the large map or choose a region that you find interesting (thus change the map region in the beginning of the script. Make sure to restart the notebook via the `Kernel` item on top when you change the map range).\n",
    "\n",
    "## Geostrophic balance\n",
    "1. Explain the meaning of geostrophic wind balance and write it out in pressure coordinates. Does the flow in the plot seem to be in geostrophic balance?\n",
    "1. Calculate and plot the geostrophic wind speed $\\left| \\boldsymbol{V_g} \\right|$ at 500 hPa and compare it with the actual wind speed $\\left| \\boldsymbol{V} \\right|$. This is a complex task that contains a sequence of steps. You have to calculate the geostrophic wind components $u_g$ and $v_g$ from the 3d field that contains the geopotential $\\Phi$. You need the Coriolis parameter $f \\equiv 2\\Omega \\sin \\phi$ as well. This one you have to calculate yourself.\n",
    "2. Where is the atmosphere in geostrophic balance and where not? Discuss the explanation in detail.\n",
    "3. Do the same at an other height of your choice and discuss the differences with the 500 hPa level.\n",
    "\n",
    "## Thermal wind balance\n",
    "1. Derive the thermal wind balance in pressure coordinates. Explain the meaning in detail.\n",
    "2. Calculate and plot the term that contains the vertical gradient (around 500 hPa) of the zonal geostrophic wind.\n",
    "3. Calculate and plot the term that contains the meridional gradient of the temperature.\n",
    "4. Is the atmosphere in thermal wind balance? Where is it and where not?\n"
   ]
  },
  {
   "cell_type": "markdown",
   "metadata": {},
   "source": [
    "___\n",
    "Work out the assignment below. If you feel more comfortable in using Word, you can also work the assignment out in there. You can save the pictures by clicking right on them. You can use the Notebook from last week to look up how to calculate gradients.\n",
    "___"
   ]
  },
  {
   "cell_type": "code",
   "execution_count": null,
   "metadata": {},
   "outputs": [],
   "source": [
    "omega = 7.292e-5\n",
    "a_earth = 6.37e6\n",
    "g = 9.81\n",
    "R = 287."
   ]
  },
  {
   "cell_type": "code",
   "execution_count": null,
   "metadata": {},
   "outputs": [],
   "source": [
    "# Two arrays of zeros are initialized with the same shape as that of Z.\n",
    "dPhidx = np.zeros(Phi.shape)\n",
    "dPhidy = np.zeros(Phi.shape)\n",
    "\n",
    "latrad = np.deg2rad(lat)\n",
    "lonrad = np.deg2rad(lon)\n",
    "\n",
    "# We initialize an array with the cosine of the latitude.\n",
    "cos_lat = np.cos(latrad)\n",
    "\n",
    "# With \\ it is possible to break a long line. Carefully study the use of the newaxis keyword.\n",
    "dPhidx[:,:,:] = (a_earth*cos_lat[np.newaxis,:,np.newaxis])**(-1) \\\n",
    "              * np.gradient(Phi, axis=2) / np.gradient(lonrad[np.newaxis, np.newaxis, :], axis=2)\n",
    "dPhidy[:,:,:] = (a_earth)**(-1) \\\n",
    "              * np.gradient(Phi, axis=1) / np.gradient(latrad[np.newaxis, :, np.newaxis], axis=1)\n",
    "    \n",
    "f = 2.*omega*np.sin(latrad)\n",
    "ug = -(1./f[np.newaxis,:,np.newaxis])*dPhidy\n",
    "vg =  (1./f[np.newaxis,:,np.newaxis])*dPhidx\n",
    "Vg = (ug**2 + vg**2)**.5\n",
    "V = (u**2 + v**2)**.5"
   ]
  },
  {
   "cell_type": "code",
   "execution_count": null,
   "metadata": {
    "code_folding": []
   },
   "outputs": [],
   "source": [
    "# Figures\n",
    "fig1 = plt.figure()\n",
    "ax1 = plt.subplot(111, projection=my_projection)\n",
    "\n",
    "ax1.set_xticks(np.arange(-180, 181, 30), crs=my_projection)\n",
    "ax1.set_yticks(np.arange(-90, 91, 30), crs=my_projection)\n",
    "lon_formatter = LongitudeFormatter(zero_direction_label=True)\n",
    "lat_formatter = LatitudeFormatter()\n",
    "ax1.xaxis.set_major_formatter(lon_formatter)\n",
    "ax1.yaxis.set_major_formatter(lat_formatter)\n",
    "\n",
    "V_range = np.arange(0, 61, 5)\n",
    "\n",
    "cb = ax1.contourf(lon, lat, V[n,:,:], V_range, cmap=my_cmap) # We plot a colormesh using the gist_ncar colormap.\n",
    "fig1.colorbar(cb) # We add a colorbar to show the values of temperature.\n",
    "lons, lats = np.meshgrid(lon, lat)\n",
    "qu = ax1.quiver(lons[::nq, ::nq], lats[::nq, ::nq], u[n,::nq,::nq], v[n,::nq,::nq],\\\n",
    "                pivot='mid', width=1.2e-3, scale=1000.)\n",
    "cz = ax1.contour(lon, lat, Phi[n,:,:], 15, colors='w', linewidths=1.5) # We plot the geopotential in contours.\n",
    "\n",
    "ax1.add_feature(cartopy.feature.COASTLINE, linewidth=0.8)\n",
    "ax1.add_feature(cartopy.feature.BORDERS, linestyle='-', linewidth=.2)\n",
    "\n",
    "ax1.clabel(cz, fmt='%1.0f', fontsize=10.) # We add labels to the contour lines.\n",
    "ax1.set_title(r'$V$ and $\\Phi$ at p = {0:.0f} hPa'.format(p[n]/100.)); # We add a title to the plot.\n",
    "ax1.set_xlim(lon_start, lon_end)\n",
    "ax1.set_ylim(lat_start, lat_end)\n",
    "#fig1.tight_layout() # With this function we make the figure fit as good as possible.\n",
    "\n",
    "fig1 = plt.figure()\n",
    "ax1 = plt.subplot(111, projection=my_projection)\n",
    "\n",
    "ax1.set_xticks(np.arange(-180, 181, 30), crs=my_projection)\n",
    "ax1.set_yticks(np.arange(-90, 91, 30), crs=my_projection)\n",
    "lon_formatter = LongitudeFormatter(zero_direction_label=True)\n",
    "lat_formatter = LatitudeFormatter()\n",
    "ax1.xaxis.set_major_formatter(lon_formatter)\n",
    "ax1.yaxis.set_major_formatter(lat_formatter)\n",
    "\n",
    "cb = ax1.contourf(lon, lat, Vg[n,:,:], V_range, cmap=my_cmap) # We plot a colormesh using the gist_ncar colormap.\n",
    "fig1.colorbar(cb) # We add a colorbar to show the values of temperature.\n",
    "lons, lats = np.meshgrid(lon, lat)\n",
    "qu = ax1.quiver(lons[::nq, ::nq], lats[::nq, ::nq], u[n,::nq,::nq], v[n,::nq,::nq],\\\n",
    "                pivot='mid', width=1.2e-3, scale=1000.)\n",
    "cz = ax1.contour(lon, lat, Phi[n,:,:], 15, colors='w', linewidths=1.5) # We plot the geopotential in contours.\n",
    "\n",
    "ax1.add_feature(cartopy.feature.COASTLINE, linewidth=0.8)\n",
    "ax1.add_feature(cartopy.feature.BORDERS, linestyle='-', linewidth=.2)\n",
    "\n",
    "ax1.clabel(cz, fmt='%1.0f', fontsize=10.) # We add labels to the contour lines.\n",
    "ax1.set_title(r'$V_g$ and $\\Phi$ at p = {0:.0f} hPa'.format(p[n]/100.)); # We add a title to the plot.\n",
    "ax1.set_xlim(lon_start, lon_end)\n",
    "ax1.set_ylim(lat_start, lat_end)\n",
    "#fig1.tight_layout() # With this function we make the figure fit as good as possible.\n",
    "\n",
    "fig1 = plt.figure()\n",
    "ax1 = plt.subplot(111, projection=my_projection)\n",
    "\n",
    "ax1.set_xticks(np.arange(-180, 181, 30), crs=my_projection)\n",
    "ax1.set_yticks(np.arange(-90, 91, 30), crs=my_projection)\n",
    "lon_formatter = LongitudeFormatter(zero_direction_label=True)\n",
    "lat_formatter = LatitudeFormatter()\n",
    "ax1.xaxis.set_major_formatter(lon_formatter)\n",
    "ax1.yaxis.set_major_formatter(lat_formatter)\n",
    "\n",
    "cb = ax1.contourf(lon, lat, Vg[n,:,:]-V[n,:,:], V_range, cmap=my_cmap) # We plot a colormesh using the gist_ncar colormap.\n",
    "fig1.colorbar(cb) # We add a colorbar to show the values of temperature.\n",
    "lons, lats = np.meshgrid(lon, lat)\n",
    "qu = ax1.quiver(lons[::nq, ::nq], lats[::nq, ::nq], u[n,::nq,::nq], v[n,::nq,::nq],\\\n",
    "                pivot='mid', width=1.2e-3, scale=1000.)\n",
    "cz = ax1.contour(lon, lat, Phi[n,:,:], 15, colors='w', linewidths=1.5) # We plot the geopotential in contours.\n",
    "\n",
    "ax1.add_feature(cartopy.feature.COASTLINE, linewidth=0.8)\n",
    "ax1.add_feature(cartopy.feature.BORDERS, linestyle='-', linewidth=.2)\n",
    "\n",
    "ax1.clabel(cz, fmt='%1.0f', fontsize=10.) # We add labels to the contour lines.\n",
    "ax1.set_title(r'$V_g - V$ and $\\Phi$ at p = {0:.0f} hPa'.format(p[n]/100.)); # We add a title to the plot.\n",
    "ax1.set_xlim(lon_start, lon_end)\n",
    "ax1.set_ylim(lat_start, lat_end)\n",
    "#fig1.tight_layout()"
   ]
  },
  {
   "cell_type": "code",
   "execution_count": null,
   "metadata": {},
   "outputs": [],
   "source": [
    "# Radius of curvature\n",
    "dudx = (a_earth*cos_lat[np.newaxis,:,np.newaxis])**(-1) \\\n",
    "     * np.gradient(u, axis=2) / np.gradient(lonrad[np.newaxis, np.newaxis, :], axis=2)\n",
    "dudy = (a_earth)**(-1) \\\n",
    "     * np.gradient(u, axis=1) / np.gradient(latrad[np.newaxis, :, np.newaxis], axis=1)\n",
    "dvdx = (a_earth*cos_lat[np.newaxis,:,np.newaxis])**(-1) \\\n",
    "     * np.gradient(v, axis=2) / np.gradient(lonrad[np.newaxis, np.newaxis, :], axis=2)\n",
    "dvdy = (a_earth)**(-1) \\\n",
    "     * np.gradient(v, axis=1) / np.gradient(latrad[np.newaxis, :, np.newaxis], axis=1)\n",
    "dudt = u*dudx + v*dudy\n",
    "dvdt = u*dvdx + v*dvdy\n",
    "Rc = abs( (u**2 + v**2)**(1.5) / (u*dvdt - v*dudt) ) * 1e-3\n",
    "\n",
    "fig1 = plt.figure()\n",
    "ax1 = plt.subplot(111, projection=my_projection)\n",
    "\n",
    "ax1.set_xticks(np.arange(-180, 181, 30), crs=my_projection)\n",
    "ax1.set_yticks(np.arange(-90, 91, 30), crs=my_projection)\n",
    "lon_formatter = LongitudeFormatter(zero_direction_label=True)\n",
    "lat_formatter = LatitudeFormatter()\n",
    "ax1.xaxis.set_major_formatter(lon_formatter)\n",
    "ax1.yaxis.set_major_formatter(lat_formatter)\n",
    "\n",
    "Rc_range = np.linspace(0, 1e-2, 11)\n",
    "cb = ax1.contourf(lon, lat, Rc[n,:,:]**-1, Rc_range, cmap=my_cmap, extend='max') # We plot a colormesh using the gist_ncar colormap.\n",
    "fig1.colorbar(cb) # We add a colorbar to show the values of temperature.\n",
    "lons, lats = np.meshgrid(lon, lat)\n",
    "qu = ax1.quiver(lons[::nq, ::nq], lats[::nq, ::nq], u[n,::nq,::nq], v[n,::nq,::nq],\\\n",
    "                pivot='mid', width=1.2e-3, scale=1000.)\n",
    "cz = ax1.contour(lon, lat, Phi[n,:,:], 15, colors='w', linewidths=1.5) # We plot the geopotential in contours.\n",
    "\n",
    "ax1.add_feature(cartopy.feature.COASTLINE, linewidth=0.8)\n",
    "ax1.add_feature(cartopy.feature.BORDERS, linestyle='-', linewidth=.2)\n",
    "\n",
    "ax1.clabel(cz, fmt='%1.0f', fontsize=10.) # We add labels to the contour lines.\n",
    "ax1.set_title(r'$V_g - V$ and $\\Phi$ at p = {0:.0f} hPa'.format(p[n]/100.)); # We add a title to the plot.\n",
    "ax1.set_xlim(lon_start, lon_end)\n",
    "ax1.set_ylim(lat_start, lat_end)\n",
    "#fig1.tight_layout()"
   ]
  },
  {
   "cell_type": "code",
   "execution_count": null,
   "metadata": {
    "code_folding": [
     0
    ]
   },
   "outputs": [],
   "source": [
    "# Vertical profiles of wind and temperature.\n",
    "lat_plot = 40.\n",
    "lon_plot = -60.\n",
    "i_lon = abs(lon - lon_plot).argmin()\n",
    "j_lat = abs(lat - lat_plot).argmin()\n",
    "\n",
    "fig = plt.figure()\n",
    "ax1 = plt.subplot(121)\n",
    "ax1.plot(T[:,j_lat,i_lon], p, 'C0o-')\n",
    "ax1.set_xlabel('T (K)')\n",
    "ax1.set_ylabel('p (Pa)')\n",
    "ax1.invert_yaxis()\n",
    "\n",
    "ax2 = plt.subplot(122)\n",
    "ax2.plot(V [:,j_lat,i_lon], p, 'C1^:' , label='V')\n",
    "ax2.plot(Vg[:,j_lat,i_lon], p, 'C2*--', label='V_g')\n",
    "ax2.set_xlabel('wind speed (m/s)')\n",
    "ax2.set_ylabel('p (Pa)')\n",
    "ax2.legend(loc=0, frameon=False)\n",
    "ax2.invert_yaxis()\n",
    "fig.tight_layout()"
   ]
  },
  {
   "cell_type": "code",
   "execution_count": null,
   "metadata": {},
   "outputs": [],
   "source": [
    "latrad = np.deg2rad(lat)\n",
    "lonrad = np.deg2rad(lon)\n",
    "\n",
    "# We initialize an array with the cosine of the latitude.\n",
    "cos_lat = np.cos(latrad)\n",
    "\n",
    "# With \\ it is possible to break a long line. Carefully study the use of the newaxis keyword.\n",
    "dTdx = (a_earth*cos_lat[np.newaxis,:,np.newaxis])**(-1) \\\n",
    "     * np.gradient(T, axis=2) / np.gradient(lonrad[np.newaxis, np.newaxis, :], axis=2)\n",
    "dTdy = (a_earth)**(-1) \\\n",
    "     * np.gradient(T, axis=1) / np.gradient(latrad[np.newaxis, :, np.newaxis], axis=1)\n",
    "\n",
    "thermal_u = R/f[np.newaxis,:,np.newaxis]*dTdy\n",
    "\n",
    "dugdlnp = np.gradient(ug, axis=0) / np.gradient(np.log(p[:, np.newaxis, np.newaxis]), axis=0)\n",
    "dvgdlnp = np.gradient(vg, axis=0) / np.gradient(np.log(p[:, np.newaxis, np.newaxis]), axis=0)"
   ]
  },
  {
   "cell_type": "code",
   "execution_count": null,
   "metadata": {
    "code_folding": []
   },
   "outputs": [],
   "source": [
    "# Figures\n",
    "fig1 = plt.figure()\n",
    "ax1 = plt.subplot(111, projection=my_projection)\n",
    "\n",
    "ax1.set_xticks(np.arange(-180, 181, 30), crs=my_projection)\n",
    "ax1.set_yticks(np.arange(-90, 91, 30), crs=my_projection)\n",
    "lon_formatter = LongitudeFormatter(zero_direction_label=True)\n",
    "lat_formatter = LatitudeFormatter()\n",
    "ax1.xaxis.set_major_formatter(lon_formatter)\n",
    "ax1.yaxis.set_major_formatter(lat_formatter)\n",
    "\n",
    "ut_range = np.linspace(-60., 60., 21)\n",
    "\n",
    "cb = ax1.contourf(lon, lat, thermal_u[n,:,:], ut_range, cmap=plt.cm.seismic, extend='both') # We plot a colormesh using the gist_ncar colormap.\n",
    "fig1.colorbar(cb) # We add a colorbar to show the values of temperature.\n",
    "lons, lats = np.meshgrid(lon, lat)\n",
    "qu = ax1.quiver(lons[::nq, ::nq], lats[::nq, ::nq], u[n,::nq,::nq], v[n,::nq,::nq],\\\n",
    "                pivot='mid', width=1.2e-3, scale=1000.)\n",
    "cz = ax1.contour(lon, lat, Phi[n,:,:], 15, colors='w', linewidths=1.5) # We plot the geopotential in contours.\n",
    "\n",
    "ax1.add_feature(cartopy.feature.COASTLINE, linewidth=0.8)\n",
    "ax1.add_feature(cartopy.feature.BORDERS, linestyle='-', linewidth=.2)\n",
    "\n",
    "ax1.clabel(cz, fmt='%1.0f', fontsize=10.) # We add labels to the contour lines.\n",
    "ax1.set_title(r'$R / f \\partial T / \\partial y$ and $\\Phi$ at p = {0:.0f} hPa'.format(p[n]/100.)); # We add a title to the plot.\n",
    "ax1.set_xlim(lon_start, lon_end)\n",
    "ax1.set_ylim(lat_start, lat_end)\n",
    "#fig1.tight_layout() # With this function we make the figure fit as good as possible.\n",
    "\n",
    "fig1 = plt.figure()\n",
    "ax1 = plt.subplot(111, projection=my_projection)\n",
    "\n",
    "ax1.add_feature(cartopy.feature.COASTLINE, linewidth=0.8)\n",
    "ax1.add_feature(cartopy.feature.BORDERS, linestyle='-', linewidth=.2)\n",
    "\n",
    "ax1.set_xticks(np.arange(-180, 181, 30), crs=my_projection)\n",
    "ax1.set_yticks(np.arange(-90, 91, 30), crs=my_projection)\n",
    "lon_formatter = LongitudeFormatter(zero_direction_label=True)\n",
    "lat_formatter = LatitudeFormatter()\n",
    "ax1.xaxis.set_major_formatter(lon_formatter)\n",
    "ax1.yaxis.set_major_formatter(lat_formatter)\n",
    "\n",
    "ut_range = np.linspace(-60., 60., 21)\n",
    "\n",
    "cb = ax1.contourf(lon, lat, dugdlnp[n,:,:], ut_range, cmap=plt.cm.seismic, extend='both') # We plot a colormesh using the gist_ncar colormap.\n",
    "fig1.colorbar(cb) # We add a colorbar to show the values of temperature.\n",
    "lons, lats = np.meshgrid(lon, lat)\n",
    "qu = ax1.quiver(lons[::nq, ::nq], lats[::nq, ::nq], u[n,::nq,::nq], v[n,::nq,::nq],\\\n",
    "                pivot='mid', width=1.2e-3, scale=1000.)\n",
    "cz = ax1.contour(lon, lat, Phi[n,:,:], 15, colors='w', linewidths=1.5) # We plot the geopotential in contours.\n",
    "ax1.clabel(cz, fmt='%1.0f', fontsize=10.) # We add labels to the contour lines.\n",
    "ax1.set_title(r'$\\partial \\left( \\ln u_g \\right) / \\partial p$ and $\\Phi$ at p = {0:.0f} hPa'.format(p[n]/100.)); # We add a title to the plot.\n",
    "ax1.set_xlim(lon_start, lon_end)\n",
    "ax1.set_ylim(lat_start, lat_end)\n",
    "#fig1.tight_layout() # With this function we make the figure fit as good as possible.\n",
    "\n",
    "fig1 = plt.figure()\n",
    "ax1 = plt.subplot(111, projection=my_projection)\n",
    "\n",
    "ax1.set_xticks(np.arange(-180, 181, 30), crs=my_projection)\n",
    "ax1.set_yticks(np.arange(-90, 91, 30), crs=my_projection)\n",
    "lon_formatter = LongitudeFormatter(zero_direction_label=True)\n",
    "lat_formatter = LatitudeFormatter()\n",
    "ax1.xaxis.set_major_formatter(lon_formatter)\n",
    "ax1.yaxis.set_major_formatter(lat_formatter)\n",
    "\n",
    "ut_range = np.linspace(-60., 60., 21)\n",
    "\n",
    "cb = ax1.contourf(lon, lat, thermal_u[n,:,:] - dugdlnp[n,:,:], ut_range, cmap=plt.cm.seismic, extend='both') # We plot a colormesh using the gist_ncar colormap.\n",
    "fig1.colorbar(cb) # We add a colorbar to show the values of temperature.\n",
    "lons, lats = np.meshgrid(lon, lat)\n",
    "qu = ax1.quiver(lons[::nq, ::nq], lats[::nq, ::nq], u[n,::nq,::nq], v[n,::nq,::nq],\\\n",
    "                pivot='mid', width=1.2e-3, scale=1000.)\n",
    "cz = ax1.contour(lon, lat, Phi[n,:,:], 15, colors='w', linewidths=1.5) # We plot the geopotential in contours.\n",
    "\n",
    "ax1.add_feature(cartopy.feature.COASTLINE, linewidth=0.8)\n",
    "ax1.add_feature(cartopy.feature.BORDERS, linestyle='-', linewidth=.2)\n",
    "\n",
    "ax1.clabel(cz, fmt='%1.0f', fontsize=10.) # We add labels to the contour lines.\n",
    "ax1.set_title(r'$\\partial \\left( \\ln u_g \\right) / \\partial p$ and $\\Phi$ at p = {0:.0f} hPa'.format(p[n]/100.)); # We add a title to the plot.\n",
    "ax1.set_xlim(lon_start, lon_end)\n",
    "ax1.set_ylim(lat_start, lat_end)\n",
    "#fig1.tight_layout() # With this function we make the figure fit as good as possible.\n",
    "\n"
   ]
  },
  {
   "cell_type": "code",
   "execution_count": null,
   "metadata": {},
   "outputs": [],
   "source": []
  }
 ],
 "metadata": {
  "kernelspec": {
   "display_name": "Python 3 (ipykernel)",
   "language": "python",
   "name": "python3"
  },
  "language_info": {
   "codemirror_mode": {
    "name": "ipython",
    "version": 3
   },
   "file_extension": ".py",
   "mimetype": "text/x-python",
   "name": "python",
   "nbconvert_exporter": "python",
   "pygments_lexer": "ipython3",
   "version": "3.7.10"
  },
  "toc": {
   "colors": {
    "hover_highlight": "#DAA520",
    "navigate_num": "#000000",
    "navigate_text": "#333333",
    "running_highlight": "#FF0000",
    "selected_highlight": "#FFD700",
    "sidebar_border": "#EEEEEE",
    "wrapper_background": "#FFFFFF"
   },
   "moveMenuLeft": true,
   "nav_menu": {
    "height": "120px",
    "width": "252px"
   },
   "navigate_menu": true,
   "number_sections": true,
   "sideBar": true,
   "threshold": 4,
   "toc_cell": false,
   "toc_section_display": "block",
   "toc_window_display": false,
   "widenNotebook": false
  },
  "varInspector": {
   "cols": {
    "lenName": 16,
    "lenType": 16,
    "lenVar": 40
   },
   "kernels_config": {
    "python": {
     "delete_cmd_postfix": "",
     "delete_cmd_prefix": "del ",
     "library": "var_list.py",
     "varRefreshCmd": "print(var_dic_list())"
    },
    "r": {
     "delete_cmd_postfix": ") ",
     "delete_cmd_prefix": "rm(",
     "library": "var_list.r",
     "varRefreshCmd": "cat(var_dic_list()) "
    }
   },
   "types_to_exclude": [
    "module",
    "function",
    "builtin_function_or_method",
    "instance",
    "_Feature"
   ],
   "window_display": false
  }
 },
 "nbformat": 4,
 "nbformat_minor": 4
}
