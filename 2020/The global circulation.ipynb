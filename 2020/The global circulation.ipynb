{
 "cells": [
  {
   "cell_type": "markdown",
   "metadata": {},
   "source": [
    "# Week 1: The global circulation\n",
    "*MAQ - 32806, Chiel van Heerwaarden, Imme Benedict, and Menno Veerman 2018-2020*\n",
    "\n",
    "This is the first tutorial. In this tutorial, you will get used to the Jupyter Notebooks, and their work flow. In Jupyter notebooks you can write either text in Markdown format (including mathematics using LaTeX) or code in Python format. In this course, you will work on assignments that you are going to work out in your own notebook.\n",
    "___"
   ]
  },
  {
   "cell_type": "markdown",
   "metadata": {},
   "source": [
    "**SOME ESSENTIAL TIPS BEFORE STARTING!**\n",
    "\n",
    "* Make a copy of the notebook via the `File` menu. By doing so, you always have the original file to revert to.\n",
    "* Save your work often.\n",
    "* In case of weird behavior, try to restart the notebook via the `Kernel` menu.\n",
    "* Play around, the best way to find out how things work is to try them out!\n",
    "* Use the internet for help on `numpy`, `matplotlib`, `cartopy` or `LaTeX` if you want to try something out.\n",
    "* With `Shift+Enter` you can move down while executing cells.\n",
    "* You can complete commands by pressing `Tab`.\n",
    "___"
   ]
  },
  {
   "cell_type": "markdown",
   "metadata": {},
   "source": [
    "# Setting up Python and load the data\n",
    "We start the tutorial by loading the required Python packages and setting the figure properties."
   ]
  },
  {
   "cell_type": "code",
   "execution_count": null,
   "metadata": {
    "code_folding": []
   },
   "outputs": [],
   "source": [
    "# Loading the packages.\n",
    "# Install a pip package in the current Jupyter kernel\n",
    "import sys\n",
    "!{sys.executable} -m pip install scipy cartopy netCDF4\n",
    "\n",
    "import numpy as np              # Numpy is the fundamental package for scientific computing in Python.\n",
    "import netCDF4 as nc            # NetCDF is the data format of the meteorological data that we use.\n",
    "import matplotlib.pyplot as plt # Matplotlib is a scientific plotting package.\n",
    "import datetime                 # Datetime is a package to deal with dates.\n",
    "import cartopy.crs as ccrs\n",
    "import cartopy\n",
    "from cartopy.mpl.ticker import LongitudeFormatter, LatitudeFormatter\n",
    "from matplotlib.colors import LinearSegmentedColormap\n",
    "\n",
    "# The statement below enforces the plots to be put into this notebook, instead of in their own windows.\n",
    "%matplotlib inline"
   ]
  },
  {
   "cell_type": "code",
   "execution_count": null,
   "metadata": {
    "code_folding": []
   },
   "outputs": [],
   "source": [
    "# The default font and size of the figures is set.\n",
    "plt.rcParams.update({'font.size': 11})          # Set the standard font size of the plots to 11pt.\n",
    "plt.rcParams.update({'figure.figsize': [13,5]}) # Set the standard figure size."
   ]
  },
  {
   "cell_type": "code",
   "execution_count": null,
   "metadata": {
    "code_folding": []
   },
   "outputs": [],
   "source": [
    "# Create custom color map similar to the NCAR NCL WhiteBlueGreenYellowRed\n",
    "cdict = {'red':   ((   0/253., 255./255., 255./255.),\n",
    "                   (  36/253., 157./255., 157./255.),\n",
    "                   (  72/253.,  72./255.,  72./255.),\n",
    "                   ( 108/253.,  73./255.,  73./255.),\n",
    "                   ( 145/253., 250./255., 250./255.),\n",
    "                   ( 181/253., 245./255., 245./255.),\n",
    "                   ( 217/253., 211./255., 211./255.),\n",
    "                   ( 253/253., 146./255., 146./255.)),\n",
    "         'green': ((   0/253., 255./255., 255./255.),\n",
    "                   (  36/253., 218./255., 218./255.),\n",
    "                   (  72/253., 142./255., 142./255.),\n",
    "                   ( 108/253., 181./255., 181./255.),\n",
    "                   ( 145/253., 232./255., 232./255.),\n",
    "                   ( 181/253., 106./255., 106./255.),\n",
    "                   ( 217/253.,  31./255.,  31./255.),\n",
    "                   ( 253/253.,  21./255.,  21./255.)),\n",
    "         'blue':  ((   0/253., 255./255., 255./255.),\n",
    "                   (  36/253., 247./255., 247./255.),\n",
    "                   (  72/253., 202./255., 202./255.),\n",
    "                   ( 108/253.,  70./255.,  70./255.),\n",
    "                   ( 145/253.,  92./255.,  92./255.),\n",
    "                   ( 181/253.,  45./255.,  45./255.),\n",
    "                   ( 217/253.,  40./255.,  40./255.),\n",
    "                   ( 253/253.,  25./255.,  25./255.))}\n",
    "\n",
    "my_cmap = LinearSegmentedColormap('my_colormap', cdict,256)"
   ]
  },
  {
   "cell_type": "markdown",
   "metadata": {},
   "source": [
    "___\n",
    "Now, you load the data and read out the desired variables from a NetCDF file from the ECMWF ERA-Interim data archive. You are loading a file with data from January 1st, 2016."
   ]
  },
  {
   "cell_type": "code",
   "execution_count": null,
   "metadata": {
    "code_folding": []
   },
   "outputs": [],
   "source": [
    "# Loading the data into the variables.\n",
    "nc_file = nc.Dataset(\"shared/era_data.nc\", \"r\")\n",
    "lat = nc_file.variables[\"latitude\"][:]\n",
    "lon = nc_file.variables[\"longitude\"][:]\n",
    "p = nc_file.variables[\"level\"][:]*100.  # Conversion of pressure to Pa.\n",
    "\n",
    "t = 0 # We only load the first time index from the data.\n",
    "time = nc.num2date(nc_file.variables[\"time\"][t], nc_file.variables[\"time\"].units)\n",
    "print(\"The time is: {}\".format(time))\n",
    "\n",
    "# With the code below, we roll the map, to get the 0 meridian,\n",
    "# rather than the Pacific in the middle.\n",
    "nroll = lon.size//2\n",
    "lon = np.roll(lon, nroll)\n",
    "lon = np.where(lon>=180., lon-360., lon)\n",
    "\n",
    "# We load 3D fields of the two horizontal wind components, the geopotential and the temperature.\n",
    "u     = np.roll(nc_file.variables[\"u\"][t,:,:,:], nroll, -1)\n",
    "v     = np.roll(nc_file.variables[\"v\"][t,:,:,:], nroll, -1)\n",
    "omega = np.roll(nc_file.variables[\"w\"][t,:,:,:], nroll, -1)\n",
    "Phi   = np.roll(nc_file.variables[\"z\"][t,:,:,:], nroll, -1)\n",
    "T     = np.roll(nc_file.variables[\"t\"][t,:,:,:], nroll, -1)\n",
    "\n",
    "nc_file.close() # The file access is closed as no further data is needed now."
   ]
  },
  {
   "cell_type": "markdown",
   "metadata": {},
   "source": [
    "This is it. With the actions below, you have done everything to be able to work with ECMWF ERA-Interim weather data.\n",
    "___"
   ]
  },
  {
   "cell_type": "markdown",
   "metadata": {},
   "source": [
    "# Working with numpy\n",
    "Before plotting the data, we have a quick look at the shape of the loaded data. Our 3D fields have three dimensions: `height`, `lat` and `lon` from which we can select the desired fields. Pressure is the height coordinate of our data. Below we show some simple examples."
   ]
  },
  {
   "cell_type": "code",
   "execution_count": null,
   "metadata": {},
   "outputs": [],
   "source": [
    "print(Phi.shape)     # We have 37 height levels, 241 latitudes and 480 longitudes.\n",
    "print(p[0])          # Our lowest pressure level is 1000 hPa.\n",
    "print(p[6])          # At level 6 we find 850 hPa.\n",
    "Phi_850 = Phi[6,:,:] # We create a new variable that contains only the geopotential at 850 hPa.\n",
    "print(Phi_850.shape) # The new data has only two dimensions, lat and lon.\n",
    "\n",
    "# We can also write formatted output to the screen.\n",
    "print(\"The standard deviation is {0}\".format(np.std(Phi_850))) # We can format the output.\n",
    "print(\"The mean, min and max are {0}, {1}, {2}\".format(np.mean(Phi_850), np.min(Phi_850), np.max(Phi_850)))\n",
    "print(\"The mean, min and max are {0:.0f}, {1:.1f}, {2:.2f}\".format(np.mean(Phi_850), np.min(Phi_850), np.max(Phi_850)))"
   ]
  },
  {
   "cell_type": "markdown",
   "metadata": {},
   "source": [
    "# Plotting and manipulating data\n",
    "## Plotting a world map\n",
    "We are now going to plot the temperature $T$ and geopotential $\\Phi$ at 500 hPa. Note that our units are SI."
   ]
  },
  {
   "cell_type": "code",
   "execution_count": null,
   "metadata": {},
   "outputs": [],
   "source": [
    "p_plot = 50000. # Choose the height in pressure level at which you want to plot.\n",
    "n = abs(p-p_plot).argmin() # This is a trick to find the index closest to the desired value.\n",
    "\n",
    "my_projection = ccrs.PlateCarree(central_longitude=0)\n",
    "\n",
    "fig1 = plt.figure()\n",
    "ax1 = plt.subplot(111, projection=my_projection)\n",
    "\n",
    "ax1.set_xticks(np.arange(-180, 181, 30), crs=my_projection)\n",
    "ax1.set_yticks(np.arange(-90, 91, 30), crs=my_projection)\n",
    "lon_formatter = LongitudeFormatter(zero_direction_label=True)\n",
    "lat_formatter = LatitudeFormatter()\n",
    "ax1.xaxis.set_major_formatter(lon_formatter)\n",
    "ax1.yaxis.set_major_formatter(lat_formatter)\n",
    "\n",
    "cb = ax1.contourf(lon, lat, T[n,:,:], 15, cmap=my_cmap) # We plot a colormesh using the gist_ncar colormap.\n",
    "fig1.colorbar(cb) # We add a colorbar to show the values of temperature.\n",
    "cz = ax1.contour(lon, lat, Phi[n,:,:], 15, colors='w', linewidths=1.5) # We plot the geopotential in contours.\n",
    "\n",
    "ax1.add_feature(cartopy.feature.COASTLINE, linewidth=0.8)\n",
    "ax1.add_feature(cartopy.feature.BORDERS, linestyle='-', linewidth=.2)\n",
    "\n",
    "ax1.clabel(cz, fmt='%1.0f', fontsize=10.) # We add labels to the contour lines.\n",
    "ax1.set_title('T and Phi at p = {0:.0f} hPa'.format(p[n]/100.)); # We add a title to the plot. \n",
    "fig1.tight_layout() # With this function we make the figure fit as good as possible."
   ]
  },
  {
   "cell_type": "markdown",
   "metadata": {},
   "source": [
    "## Plotting vertical profiles\n",
    "It is also possible to make simple line plots. Below we plot the temperature profile in Wageningen."
   ]
  },
  {
   "cell_type": "code",
   "execution_count": null,
   "metadata": {},
   "outputs": [],
   "source": [
    "lat_plot = 51.97\n",
    "lon_plot = 5.67\n",
    "i_lon = abs(lon - lon_plot).argmin()\n",
    "j_lat = abs(lat - lat_plot).argmin()\n",
    "\n",
    "fig = plt.figure()\n",
    "ax1 = plt.subplot(121)\n",
    "ax1.plot(T[:,j_lat,i_lon], p, 'C0o-')\n",
    "ax1.set_xlabel('T (K)')\n",
    "ax1.set_ylabel('p (Pa)')\n",
    "ax1.invert_yaxis()\n",
    "\n",
    "ax2 = plt.subplot(122)\n",
    "ax2.plot(u[:,j_lat,i_lon], p, 'C1^:' , label='u')\n",
    "ax2.plot(v[:,j_lat,i_lon], p, 'C2*--', label='v')\n",
    "ax2.set_xlabel('wind speed (m/s)')\n",
    "ax2.set_ylabel('p (Pa)')\n",
    "ax2.legend(loc=0, frameon=False)\n",
    "ax2.invert_yaxis()\n",
    "fig.tight_layout()"
   ]
  },
  {
   "cell_type": "markdown",
   "metadata": {},
   "source": [
    "\n",
    "## Manipulating data\n",
    "In Python, the underlying language of the notebooks, it is very easy to do manipulations on the data. Below, we calculate the 3D field of total wind speed and plot it. Again, we plot the data on the previously defined index of the 500 hPa level `n`. We calculate the total wind speed $U$ as\n",
    "$$ U = \\sqrt{u^2 + v^2} $$\n",
    "\n",
    "The equation above has been rendered using $\\LaTeX$, which is very useful for typesetting equations."
   ]
  },
  {
   "cell_type": "code",
   "execution_count": null,
   "metadata": {},
   "outputs": [],
   "source": [
    "U = (u**2 + v**2)**.5"
   ]
  },
  {
   "cell_type": "markdown",
   "metadata": {},
   "source": [
    "Below, we set the range of the map and choose again the level that we plot the data at."
   ]
  },
  {
   "cell_type": "code",
   "execution_count": null,
   "metadata": {},
   "outputs": [],
   "source": [
    "lat_start = 10\n",
    "lat_end = 80\n",
    "lon_start = -100\n",
    "lon_end = 50\n",
    "\n",
    "p_plot = 50000. # Choose the height in pressure level at which you want to plot.\n",
    "n = abs(p-p_plot).argmin() # This is a trick to find the index closest to the desired value."
   ]
  },
  {
   "cell_type": "code",
   "execution_count": null,
   "metadata": {
    "code_folding": []
   },
   "outputs": [],
   "source": [
    "# Plot the wind at 500 hPA\n",
    "fig1 = plt.figure()\n",
    "ax1 = plt.subplot(111, projection=my_projection)\n",
    "\n",
    "ax1.set_xticks(np.arange(-180, 181, 10), crs=my_projection)\n",
    "ax1.set_yticks(np.arange(-90, 91, 10), crs=my_projection)\n",
    "lon_formatter = LongitudeFormatter(zero_direction_label=True)\n",
    "lat_formatter = LatitudeFormatter()\n",
    "ax1.xaxis.set_major_formatter(lon_formatter)\n",
    "ax1.yaxis.set_major_formatter(lat_formatter)\n",
    "\n",
    "cb = ax1.contourf(lon, lat, U[n,:,:], 21, cmap=my_cmap)\n",
    "fig1.colorbar(cb)\n",
    "ax1.contour(lon, lat, Phi[n,:,:], 15, colors='w', linewidths=1.5)\n",
    "\n",
    "ax1.add_feature(cartopy.feature.COASTLINE, linewidth=0.8)\n",
    "ax1.add_feature(cartopy.feature.BORDERS, linestyle='-', linewidth=.2)\n",
    "\n",
    "ax1.set_xlim(lon_start, lon_end)\n",
    "ax1.set_ylim(lat_start, lat_end)\n",
    "ax1.set_title('U at p = {0:.0f} hPa'.format(p[n]/100.));\n",
    "fig1.tight_layout()"
   ]
  },
  {
   "cell_type": "markdown",
   "metadata": {},
   "source": [
    "___\n",
    "The `numpy` package provides function for averaging arrays over a chosen axis. Below we calculate and plot the vertical profile of zonal mean temperature."
   ]
  },
  {
   "cell_type": "code",
   "execution_count": null,
   "metadata": {},
   "outputs": [],
   "source": [
    "T_zonal_mean = np.mean(T, axis=2)     # Compute the mean over the longitude axis.\n",
    "# T_zonal_mean = T.mean(axis=2) # This is the same as above, but in the object-oriented way.\n",
    "T_contours = np.arange(180, 320, 10)  # Define the contour levels.\n",
    "\n",
    "fig1 = plt.figure()\n",
    "ax1 = plt.subplot(111)\n",
    "cb = ax1.contourf(lat, p, T_zonal_mean, T_contours)\n",
    "fig1.colorbar(cb)\n",
    "cl = ax1.contour(lat, p, T_zonal_mean, T_contours, colors='k')\n",
    "ax1.clabel(cl, fmt=\"%.0f\") # We state here that the number has zero decimal numbers.\n",
    "ax1.invert_yaxis()\n",
    "ax1.set_xlabel('lat (deg)')\n",
    "ax1.set_ylabel('p (Pa)')\n",
    "ax1.set_xlim(-90, 90)\n",
    "ax1.set_ylim(1e5, 0)\n",
    "fig1.tight_layout()"
   ]
  },
  {
   "cell_type": "markdown",
   "metadata": {},
   "source": [
    "**A WORD OF WARNING**\n",
    "\n",
    "The `axis=` specification can be quite confusing. The field `T[:,:,:]` has three dimensions. The first (`axis=0`) is the height in pressure levels, the second (`axis=1`) is the latitude and the third (`axis=2`) is the longitude. The field `T[0,:,:]`, however, has only two dimensions, because the height disappears as soon as we select one level. This means that the axis that corresponds to latitude is `axis=0`, and longitude is `axis=1`. The Python code below illustrates this."
   ]
  },
  {
   "cell_type": "code",
   "execution_count": null,
   "metadata": {},
   "outputs": [],
   "source": [
    "print('The shape of T[:,:,:] is {0}'.format(T[:,:,:].shape))\n",
    "print('The length of axis=0 is {0}'.format(T[:,:,:].shape[0]))\n",
    "print('The shape of T[0,:,:] is {0}'.format(T[0,:,:].shape))\n",
    "print('The length of axis=0 is {0}'.format(T[0,:,:].shape[0]))"
   ]
  },
  {
   "cell_type": "markdown",
   "metadata": {},
   "source": [
    "## Computing differential operators\n",
    "With the example below, you can calculate the gradient of the geopotential in the zonal and meridional direction. This is a tricky example that needs to be studied with care. In spherical coordinates, the two horizontal components of the gradient of the geopotential $\\nabla\\Phi$ are\n",
    "\n",
    "$$\n",
    "\\dfrac{\\partial \\Phi}{\\partial x} = \\dfrac{1}{a \\cos \\phi} \\dfrac{\\partial \\Phi}{\\partial \\lambda},\\\\\n",
    "\\dfrac{\\partial \\Phi}{\\partial y} = \\dfrac{1}{a} \\dfrac{\\partial \\Phi}{\\partial \\phi},\n",
    "$$\n",
    "\n",
    "where $a$ is the radius of the earth, $\\phi$ the latitude and $\\lambda$ the longitude.\n",
    "With `numpy`, these terms can be computed using the `np.gradient` function. This function applies centered finite differences and assumes that the distance between nodes is equal to unity. Therefore, the gradients needs to be computed as\n",
    "\n",
    "$$\n",
    "\\dfrac{\\partial \\Phi}{\\partial x} \\approx \\dfrac{1}{a \\cos \\phi} \\dfrac{\\delta \\Phi}{\\delta \\lambda} =  \\dfrac{1}{a \\cos \\phi} \\dfrac{\\dfrac{\\delta \\Phi}{\\delta i}}{\\dfrac{\\delta \\lambda}{\\delta i}}.\n",
    "$$\n",
    "\n",
    "In the computation of the gradients, we have arrays of different dimensions. $\\Phi$ is three-dimensional, but $\\lambda$ and $\\phi$ are one-dimensional. Fortunately, `numpy` provides a trick to make $\\lambda$ and $\\phi$ pretend to be three-dimensional like the geopotential $\\Phi$ array. With the `newaxis` keyword, we can add an additional axis that takes automatically the correct values."
   ]
  },
  {
   "cell_type": "code",
   "execution_count": null,
   "metadata": {},
   "outputs": [],
   "source": [
    "a_earth = 6.37e6 # Here, we define the radius of the earth.\n",
    "\n",
    "# Two arrays of zeros are initialized with the same shape as that of Z.\n",
    "dPhidx = np.zeros(Phi.shape)\n",
    "dPhidy = np.zeros(Phi.shape)\n",
    "\n",
    "latrad = np.deg2rad(lat)\n",
    "lonrad = np.deg2rad(lon)\n",
    "\n",
    "# We initialize an array with the cosine of the latitude.\n",
    "cos_lat = np.cos(latrad)\n",
    "\n",
    "# With \\ it is possible to break a long line. Carefully study the use of the newaxis keyword.\n",
    "dPhidx[:,:,:] = (a_earth*cos_lat[np.newaxis,:,np.newaxis])**(-1) \\\n",
    "              * np.gradient(Phi, axis=2) / np.gradient(lonrad[np.newaxis, np.newaxis, :], axis=2)\n",
    "dPhidy[:,:,:] = (a_earth)**(-1) \\\n",
    "              * np.gradient(Phi, axis=1) / np.gradient(latrad[np.newaxis, :, np.newaxis], axis=1)"
   ]
  },
  {
   "cell_type": "markdown",
   "metadata": {},
   "source": [
    "In the map below, we no longer choose a number of intervals in the `contourf`, but instead, we manually fix the range. This gives us more control, and it also allows us to use the same scaling for multiple plots. With `np.linspace`, we can specify the start of the interval, the end, and the number of steps."
   ]
  },
  {
   "cell_type": "code",
   "execution_count": null,
   "metadata": {
    "code_folding": []
   },
   "outputs": [],
   "source": [
    "# World map of latitudinal temperature gradients.\n",
    "fig1 = plt.figure()\n",
    "ax1 = plt.subplot(111, projection=my_projection)\n",
    "ax1.set_xticks(np.arange(-180, 181, 30), crs=my_projection)\n",
    "ax1.set_yticks(np.arange(-90, 91, 30), crs=my_projection)\n",
    "lon_formatter = LongitudeFormatter(zero_direction_label=True)\n",
    "lat_formatter = LatitudeFormatter()\n",
    "ax1.xaxis.set_major_formatter(lon_formatter)\n",
    "ax1.yaxis.set_major_formatter(lat_formatter)\n",
    "\n",
    "#Set up color bar\n",
    "dPhidy_range = np.append(np.linspace(-0.01, -0.0005, 11),np.linspace(0.0005, 0.01, 11))\n",
    "\n",
    "cb = ax1.contourf(lon, lat, dPhidy[n,:,:], dPhidy_range, cmap=plt.cm.seismic)\n",
    "fig1.colorbar(cb)\n",
    "\n",
    "ax1.add_feature(cartopy.feature.COASTLINE, linewidth=0.8)\n",
    "ax1.add_feature(cartopy.feature.BORDERS, linestyle='-', linewidth=.2)\n",
    "\n",
    "#ax1.contour(lon, lat, Phi[n,:,:], 15, colors='k', linewidths=1.5)\n",
    "ax1.set_title('$\\partial \\Phi/\\partial y$ at p = {0:.0f} hPa'.format(p[n]/100));\n",
    "fig1.tight_layout()"
   ]
  },
  {
   "cell_type": "markdown",
   "metadata": {},
   "source": [
    "___\n",
    "In a similar fashion, it is possible to compute vertical gradients. Note that your data is in pressure coordinates. Vertical gradients will therefore expressed in a change per unit of Pascal. In the example below, we calculate the vertical gradient of temperature\n",
    "\n",
    "$$ \\dfrac{\\partial T}{\\partial p} \\approx \\dfrac{\\delta T}{\\delta p} = \\dfrac{\\dfrac{\\delta T}{\\delta k}}{\\dfrac{\\delta p}{\\delta k}}.$$\n",
    "\n",
    "We plot the data again at the previously chosen height. Our pressure levels are only a one-dimensional array, but with the `newaxis` keyword, we can again add an additional axis that takes automatically the correct values.\n",
    "\n",
    "For maps with a lot of detail, `contourf` can take very long to plot the contour lines. In that case, it is possible to use `pcolormesh` instead. This function does not use contour lines, but just colors the pixels. You can control the range with the `vmin` and `vmax` keyword arguments."
   ]
  },
  {
   "cell_type": "code",
   "execution_count": null,
   "metadata": {},
   "outputs": [],
   "source": [
    "dTdp = np.gradient(T[:,:,:], axis=0) / np.gradient(p[:, np.newaxis, np.newaxis], axis=0)"
   ]
  },
  {
   "cell_type": "code",
   "execution_count": null,
   "metadata": {},
   "outputs": [],
   "source": [
    "fig1 = plt.figure()\n",
    "ax1 = plt.subplot(111, projection=my_projection)\n",
    "\n",
    "ax1.add_feature(cartopy.feature.COASTLINE, linewidth=0.8)\n",
    "ax1.add_feature(cartopy.feature.BORDERS, linestyle='-', linewidth=.2)\n",
    "ax1.set_xticks(np.linspace(-180, 180, 5), crs=my_projection)\n",
    "ax1.set_yticks(np.linspace(-90, 90, 5), crs=my_projection)\n",
    "lon_formatter = LongitudeFormatter(zero_direction_label=True)\n",
    "lat_formatter = LatitudeFormatter()\n",
    "ax1.xaxis.set_major_formatter(lon_formatter)\n",
    "ax1.yaxis.set_major_formatter(lat_formatter)\n",
    "\n",
    "cb = ax1.pcolormesh(lon, lat, dTdp[n,:,:], vmin=0, vmax=0.002, cmap=plt.cm.viridis)\n",
    "fig1.colorbar(cb)\n",
    "#ax1.contour(lon, lat, Phi[n,:,:], 15, colors='w', linewidths=1.5)\n",
    "ax1.set_title('dT/dp at p = {0:.0f} hPa'.format(p[n]/100.));\n",
    "fig1.tight_layout()"
   ]
  },
  {
   "cell_type": "markdown",
   "metadata": {},
   "source": [
    "___\n",
    "# Exercises\n",
    "We have reached the end of the examples. Now it is time to start developing the skills you need in the coming weeks. Below you find a set of exercises that will help you in that.\n",
    "___\n",
    "## Exercise 1\n",
    "1. Plot maps of total wind at 850 hPa and 300 hPa, and add contour lines of the geopotential.\n",
    "2. Describe the most prominent differences. You do not have to explain the underlying physics yet in detail. What are the differences between the Northern and Southern hemisphere?  \n",
    "3. Plot the temperature at 300 hPa and add contour lines of the geopotential.\n",
    "4. What is the connection between the wind plot and the temperature plot at 300 hPa?\n",
    "___\n",
    "## Exercise 2\n",
    "1. Calculate and plot the zonal gradient in geopotential at 500 hPa.\n",
    "2. Calculate and plot the meridional gradient in geopotential at 500 hPa.\n",
    "3. Calculate and plot the magnitude of the horizontal gradient vector.\n",
    "$\\nabla_h \\Phi \\equiv \\left(\\dfrac{\\partial \\Phi}{\\partial x}, \\dfrac{\\partial \\Phi}{\\partial y}, 0 \\right)$\n",
    "4. Where to the largest gradients occur? Discuss the differences between the tropics, the midlatitudes, and the poles.\n",
    "___\n",
    "## Exercise 3\n",
    "1. Calculate the 3D field of potential temperature $\\theta \\equiv T \\left( \\dfrac{p_0}{p} \\right)^{R_d/c_p}$\n",
    "2. Calculate and plot the vertical cross section of zonal mean potential temperature.\n",
    "3. Calculate the zonal mean zonal wind and add it to the previous plot. \n",
    "4. Discuss the plot. Explain where do the largest meridional gradients and wind speeds occur? Do you see jetstreams? Where are they positioned? What is the dominant wind direction on earth?\n",
    "___\n",
    "## Exercise 4\n",
    "1. Calculate (only in math, either on paper or in the notebook using $\\LaTeX$) the cross product of the nabla operator and the wind vector $\\boldsymbol{\\omega} = \\nabla \\times \\boldsymbol{U}$ and explain the meaning of $\\boldsymbol{\\omega}$.\n",
    "2. Calculate (only in math, either on paper or in the notebook using $\\LaTeX$) $\\zeta = \\boldsymbol{k} \\cdot \\left( \\nabla \\times \\boldsymbol{U} \\right)$ and explain the meaning of $\\zeta$.\n",
    "3. Calculate and plot $\\zeta$ at the 500 hPa level, again within the same map limits as in exercise 4 and add the contour lines.\n",
    "4. Describe the observed horizontal vorticity. What is the link between the observed vorticity and the geopotential? Under which conditions is there vorticity?\n",
    "___\n",
    "## Exercise 5\n",
    "1. Plot a vertical cross section of potential temperature with `lon` on the horizontal axis and `p` on the vertical axis at 55 S. Add contour lines of meridional velocity $v$.\n",
    "2. What do you observe? Can you identify the weather systems over the Southern oceans that you observed in other maps?\n",
    "3. Create an $xy$-plot with `lon` $\\lambda$ on the horizontal axis and meridional velocity on the vertical axis at 500 hPa at 55 S. How many weather systems do you identify?\n",
    "___\n",
    "## Bonus exercise\n",
    "1. Calculate all terms of the conservation of mass equation in pressure coordinates $\\dfrac{\\partial u}{\\partial x} + \\dfrac{\\partial v}{\\partial y} + \\dfrac{\\partial \\omega}{\\partial p}$ and check whether they add to zero.\n",
    "2. Calculate the horizontal divergence at 300 hPa. Zoom in to a smaller region, similar as in the *Manipulating data* example above. Add the contour lines of the geopotential as well.\n",
    "___"
   ]
  },
  {
   "cell_type": "markdown",
   "metadata": {},
   "source": [
    "___\n",
    "Work out the exercises below here.\n",
    "___"
   ]
  },
  {
   "cell_type": "code",
   "execution_count": null,
   "metadata": {
    "code_folding": [
     0
    ]
   },
   "outputs": [],
   "source": [
    "# Plots exercise 1.\n",
    "# 850 hPa.\n",
    "p_plot = 85000. # Choose the height in pressure level at which you want to plot.\n",
    "n = abs(p-p_plot).argmin() # This is a trick to find the index closest to the desired value.\n",
    "\n",
    "fig1 = plt.figure()\n",
    "ax1 = plt.subplot(111, projection=my_projection)\n",
    "\n",
    "ax1.add_feature(cartopy.feature.COASTLINE, linewidth=0.8)\n",
    "ax1.add_feature(cartopy.feature.BORDERS, linestyle='-', linewidth=.2)\n",
    "\n",
    "ax1.set_xticks(np.arange(-180, 181, 30), crs=my_projection)\n",
    "ax1.set_yticks(np.arange(-90, 91, 30), crs=my_projection)\n",
    "lon_formatter = LongitudeFormatter(zero_direction_label=True)\n",
    "lat_formatter = LatitudeFormatter()\n",
    "ax1.xaxis.set_major_formatter(lon_formatter)\n",
    "ax1.yaxis.set_major_formatter(lat_formatter)\n",
    "\n",
    "cb = ax1.contourf(lon, lat, U[n,:,:], 21, cmap=my_cmap)\n",
    "fig1.colorbar(cb)\n",
    "ax1.contour(lon, lat, Phi[n,:,:], 15, colors='w', linewidths=1.5)\n",
    "ax1.set_title('U at p = {0:.0f} hPa'.format(p[n]/100.));\n",
    "fig1.tight_layout()\n",
    "\n",
    "# 300 hPa\n",
    "p_plot = 30000. # Choose the height in pressure level at which you want to plot.\n",
    "n = abs(p-p_plot).argmin() # This is a trick to find the index closest to the desired value.\n",
    "\n",
    "fig1 = plt.figure()\n",
    "ax1 = plt.subplot(111, projection=my_projection)\n",
    "\n",
    "ax1.add_feature(cartopy.feature.COASTLINE, linewidth=0.8)\n",
    "ax1.add_feature(cartopy.feature.BORDERS, linestyle='-', linewidth=.2)\n",
    "\n",
    "ax1.set_xticks(np.arange(-180, 181, 30), crs=my_projection)\n",
    "ax1.set_yticks(np.arange(-90, 91, 30), crs=my_projection)\n",
    "lon_formatter = LongitudeFormatter(zero_direction_label=True)\n",
    "lat_formatter = LatitudeFormatter()\n",
    "ax1.xaxis.set_major_formatter(lon_formatter)\n",
    "ax1.yaxis.set_major_formatter(lat_formatter)\n",
    "\n",
    "cb = ax1.contourf(lon, lat, U[n,:,:], 21, cmap=my_cmap)\n",
    "fig1.colorbar(cb)\n",
    "ax1.contour(lon, lat, Phi[n,:,:], 15, colors='w', linewidths=1.5)\n",
    "ax1.set_title('U at p = {0:.0f} hPa'.format(p[n]/100.));\n",
    "fig1.tight_layout()\n",
    "\n",
    "\n",
    "fig1 = plt.figure()\n",
    "ax1 = plt.subplot(111, projection=my_projection)\n",
    "\n",
    "ax1.add_feature(cartopy.feature.COASTLINE, linewidth=0.8)\n",
    "ax1.add_feature(cartopy.feature.BORDERS, linestyle='-', linewidth=.2)\n",
    "\n",
    "ax1.set_xticks(np.arange(-180, 181, 30), crs=my_projection)\n",
    "ax1.set_yticks(np.arange(-90, 91, 30), crs=my_projection)\n",
    "lon_formatter = LongitudeFormatter(zero_direction_label=True)\n",
    "lat_formatter = LatitudeFormatter()\n",
    "ax1.xaxis.set_major_formatter(lon_formatter)\n",
    "ax1.yaxis.set_major_formatter(lat_formatter)\n",
    "\n",
    "cb = ax1.contourf(lon, lat, T[n,:,:], 21, cmap=my_cmap)\n",
    "fig1.colorbar(cb)\n",
    "ax1.contour(lon, lat, Phi[n,:,:], 15, colors='w', linewidths=1.5)\n",
    "ax1.set_title('T at p = {0:.0f} hPa'.format(p[n]/100.));\n",
    "fig1.tight_layout()"
   ]
  },
  {
   "cell_type": "code",
   "execution_count": null,
   "metadata": {},
   "outputs": [],
   "source": [
    "grad_Phi_mag = (dPhidx**2 + dPhidy**2)**.5"
   ]
  },
  {
   "cell_type": "code",
   "execution_count": null,
   "metadata": {
    "code_folding": []
   },
   "outputs": [],
   "source": [
    "# Plots exercise 2.\n",
    "p_plot = 50000. # Choose the height in pressure level at which you want to plot.\n",
    "n = abs(p-p_plot).argmin() # This is a trick to find the index closest to the desired value.\n",
    "\n",
    "# World map of latitudinal temperature gradients.\n",
    "fig1 = plt.figure()\n",
    "ax1 = plt.subplot(111, projection=my_projection)\n",
    "ax1.add_feature(cartopy.feature.COASTLINE, linewidth=0.8)\n",
    "ax1.add_feature(cartopy.feature.BORDERS, linestyle='-', linewidth=.2)\n",
    "ax1.set_xticks(np.arange(-180, 181, 30), crs=my_projection)\n",
    "ax1.set_yticks(np.arange(-90, 91, 30), crs=my_projection)\n",
    "lon_formatter = LongitudeFormatter(zero_direction_label=True)\n",
    "lat_formatter = LatitudeFormatter()\n",
    "ax1.xaxis.set_major_formatter(lon_formatter)\n",
    "ax1.yaxis.set_major_formatter(lat_formatter)\n",
    "\n",
    "dPhidx_range = np.linspace(-0.007, 0.007, 15)\n",
    "\n",
    "cb = ax1.contourf(lon, lat, dPhidx[n,:,:], dPhidx_range, cmap=plt.cm.seismic)\n",
    "fig1.colorbar(cb)\n",
    "ax1.contour(lon, lat, Phi[n,:,:], 11, colors='k', linewidths=1.5)\n",
    "ax1.set_title('$\\partial \\Phi/\\partial x$ at p = {0:.0f} hPa'.format(p[n]/100));\n",
    "fig1.tight_layout()\n",
    "\n",
    "# World map of latitudinal temperature gradients.\n",
    "fig1 = plt.figure()\n",
    "ax1 = plt.subplot(111, projection=my_projection)\n",
    "ax1.add_feature(cartopy.feature.COASTLINE, linewidth=0.8)\n",
    "ax1.add_feature(cartopy.feature.BORDERS, linestyle='-', linewidth=.2)\n",
    "ax1.set_xticks(np.arange(-180, 181, 30), crs=my_projection)\n",
    "ax1.set_yticks(np.arange(-90, 91, 30), crs=my_projection)\n",
    "lon_formatter = LongitudeFormatter(zero_direction_label=True)\n",
    "lat_formatter = LatitudeFormatter()\n",
    "ax1.xaxis.set_major_formatter(lon_formatter)\n",
    "ax1.yaxis.set_major_formatter(lat_formatter)\n",
    "\n",
    "dPhidy_range = np.linspace(-0.01, 0.01, 21)\n",
    "\n",
    "cb = ax1.contourf(lon, lat, dPhidy[n,:,:], dPhidy_range, cmap=plt.cm.seismic)\n",
    "fig1.colorbar(cb)\n",
    "ax1.contour(lon, lat, Phi[n,:,:], 11, colors='k', linewidths=1.5)\n",
    "ax1.set_title('$\\partial \\Phi/\\partial y$ at p = {0:.0f} hPa'.format(p[n]/100));\n",
    "fig1.tight_layout()\n",
    "\n",
    "# World map of latitudinal temperature gradients.\n",
    "fig1 = plt.figure()\n",
    "ax1 = plt.subplot(111, projection=my_projection)\n",
    "ax1.add_feature(cartopy.feature.COASTLINE, linewidth=0.8)\n",
    "ax1.add_feature(cartopy.feature.BORDERS, linestyle='-', linewidth=.2)\n",
    "ax1.set_xticks(np.arange(-180, 181, 30), crs=my_projection)\n",
    "ax1.set_yticks(np.arange(-90, 91, 30), crs=my_projection)\n",
    "lon_formatter = LongitudeFormatter(zero_direction_label=True)\n",
    "lat_formatter = LatitudeFormatter()\n",
    "ax1.xaxis.set_major_formatter(lon_formatter)\n",
    "ax1.yaxis.set_major_formatter(lat_formatter)\n",
    "\n",
    "grad_Phi_range = np.linspace(0., 0.01, 21)\n",
    "\n",
    "cb = ax1.contourf(lon, lat, grad_Phi_mag[n,:,:], grad_Phi_range, cmap=my_cmap)\n",
    "fig1.colorbar(cb)\n",
    "ax1.contour(lon, lat, Phi[n,:,:], 11, colors='k', linewidths=0.8)\n",
    "ax1.set_title(r'$\\left\\| \\nabla_h \\Phi \\right\\|$ at p = {0:.0f} hPa'.format(p[n]/100));\n",
    "fig1.tight_layout()"
   ]
  },
  {
   "cell_type": "code",
   "execution_count": null,
   "metadata": {},
   "outputs": [],
   "source": [
    "dTdx = (a_earth*cos_lat[np.newaxis,:,np.newaxis])**(-1) \\\n",
    "     * np.gradient(T, axis=2) / np.gradient(lonrad[np.newaxis, np.newaxis, :], axis=2)\n",
    "dTdy = (a_earth)**(-1) \\\n",
    "     * np.gradient(T, axis=1) / np.gradient(latrad[np.newaxis, :, np.newaxis], axis=1)\n",
    "dT = (dTdx**2 + dTdy**2)**0.5"
   ]
  },
  {
   "cell_type": "code",
   "execution_count": null,
   "metadata": {
    "code_folding": [
     0
    ]
   },
   "outputs": [],
   "source": [
    "# Additional plots exercise 2.\n",
    "p_plot = 50000. # Choose the height in pressure level at which you want to plot.\n",
    "n = abs(p-p_plot).argmin() # This is a trick to find the index closest to the desired value.\n",
    "\n",
    "# World map of latitudinal temperature gradients.\n",
    "fig1 = plt.figure()\n",
    "ax1 = plt.subplot(111, projection=my_projection)\n",
    "ax1.add_feature(cartopy.feature.COASTLINE, linewidth=0.8)\n",
    "ax1.add_feature(cartopy.feature.BORDERS, linestyle='-', linewidth=.2)\n",
    "ax1.set_xticks(np.arange(-180, 181, 30), crs=my_projection)\n",
    "ax1.set_yticks(np.arange(-90, 91, 30), crs=my_projection)\n",
    "lon_formatter = LongitudeFormatter(zero_direction_label=True)\n",
    "lat_formatter = LatitudeFormatter()\n",
    "ax1.xaxis.set_major_formatter(lon_formatter)\n",
    "ax1.yaxis.set_major_formatter(lat_formatter)\n",
    "\n",
    "dT_range = np.linspace(-5e-5, 5e-5, 21)\n",
    "\n",
    "cb = ax1.contourf(lon, lat, dTdx[n,:,:], dT_range, cmap=plt.cm.seismic)\n",
    "fig1.colorbar(cb)\n",
    "#ax1.contour(lon, lat, Phi[n,:,:], 15, colors='k', linewidths=1.5)\n",
    "ax1.set_title('$\\partial T/\\partial x$ at p = {0:.0f} hPa'.format(p[n]/100));\n",
    "fig1.tight_layout()\n",
    "\n",
    "# World map of latitudinal temperature gradients.\n",
    "fig1 = plt.figure()\n",
    "ax1 = plt.subplot(111, projection=my_projection)\n",
    "ax1.add_feature(cartopy.feature.COASTLINE, linewidth=0.8)\n",
    "ax1.add_feature(cartopy.feature.BORDERS, linestyle='-', linewidth=.2)\n",
    "ax1.set_xticks(np.arange(-180, 181, 30), crs=my_projection)\n",
    "ax1.set_yticks(np.arange(-90, 91, 30), crs=my_projection)\n",
    "lon_formatter = LongitudeFormatter(zero_direction_label=True)\n",
    "lat_formatter = LatitudeFormatter()\n",
    "ax1.xaxis.set_major_formatter(lon_formatter)\n",
    "ax1.yaxis.set_major_formatter(lat_formatter)\n",
    "\n",
    "cb = ax1.contourf(lon, lat, dTdy[n,:,:], dT_range, cmap=plt.cm.seismic)\n",
    "fig1.colorbar(cb)\n",
    "#ax1.contour(lon, lat, Phi[n,:,:], 15, colors='k', linewidths=1.5)\n",
    "ax1.set_title('$\\partial T/\\partial y$ at p = {0:.0f} hPa'.format(p[n]/100));\n",
    "fig1.tight_layout()\n",
    "\n",
    "# World map of latitudinal temperature gradients.\n",
    "fig1 = plt.figure()\n",
    "ax1 = plt.subplot(111, projection=my_projection)\n",
    "ax1.add_feature(cartopy.feature.COASTLINE, linewidth=0.8)\n",
    "ax1.add_feature(cartopy.feature.BORDERS, linestyle='-', linewidth=.2)\n",
    "ax1.set_xticks(np.arange(-180, 181, 30), crs=my_projection)\n",
    "ax1.set_yticks(np.arange(-90, 91, 30), crs=my_projection)\n",
    "lon_formatter = LongitudeFormatter(zero_direction_label=True)\n",
    "lat_formatter = LatitudeFormatter()\n",
    "ax1.xaxis.set_major_formatter(lon_formatter)\n",
    "ax1.yaxis.set_major_formatter(lat_formatter)\n",
    "\n",
    "dT_range = np.linspace(0, 3e-5, 21)\n",
    "\n",
    "\n",
    "cb = ax1.contourf(lon, lat, dT[n,:,:], dT_range, cmap=my_cmap, extend='both')\n",
    "fig1.colorbar(cb)\n",
    "#ax1.contour(lon, lat, Phi[n,:,:], 15, colors='k', linewidths=1.5)\n",
    "ax1.set_title(r'$\\left\\| \\nabla_h T \\right\\|$ at p = {0:.0f} hPa'.format(p[n]/100));\n",
    "fig1.tight_layout()"
   ]
  },
  {
   "cell_type": "code",
   "execution_count": null,
   "metadata": {},
   "outputs": [],
   "source": [
    "Rdcp = 287./1005.\n",
    "theta = T*(1.e5/p[:,np.newaxis,np.newaxis])**(Rdcp)\n",
    "theta_zonal_mean = theta.mean(axis=2)\n",
    "u_zonal_mean = u.mean(axis=2)"
   ]
  },
  {
   "cell_type": "code",
   "execution_count": null,
   "metadata": {
    "code_folding": [
     0
    ]
   },
   "outputs": [],
   "source": [
    "# Plots exercise 3.\n",
    "theta_range = np.linspace(250, 500, 21)\n",
    "fig1 = plt.figure()\n",
    "ax1 = plt.subplot(111)\n",
    "cb = ax1.contourf(lat, p, theta_zonal_mean, theta_range, cmap=my_cmap, extend=\"max\")\n",
    "fig1.colorbar(cb)\n",
    "u_range = np.arange(-100, 100, 4.)\n",
    "cl = ax1.contour(lat, p, u_zonal_mean, u_range, colors='k')\n",
    "ax1.clabel(cl, fmt=\"%.0f\")\n",
    "ax1.invert_yaxis()\n",
    "ax1.set_xlabel('lat (deg)')\n",
    "ax1.set_ylabel('p (Pa)')\n",
    "ax1.set_xlim(-90, 90)\n",
    "ax1.set_ylim(1e5, 0)\n",
    "fig1.tight_layout()"
   ]
  },
  {
   "cell_type": "code",
   "execution_count": null,
   "metadata": {},
   "outputs": [],
   "source": [
    "zeta = np.zeros_like(u)\n",
    "zeta += (a_earth*cos_lat[np.newaxis,:,np.newaxis])**(-1) \\\n",
    "      * np.gradient(v, axis=2) / np.gradient(lonrad[np.newaxis, np.newaxis, :], axis=2)\n",
    "zeta -= (a_earth)**(-1) \\\n",
    "      * np.gradient(u, axis=1) / np.gradient(latrad[np.newaxis, :, np.newaxis], axis=1)"
   ]
  },
  {
   "cell_type": "code",
   "execution_count": null,
   "metadata": {
    "code_folding": [
     0
    ]
   },
   "outputs": [],
   "source": [
    "# Plot exercise 4.\n",
    "p_plot = 30000. # Choose the height in pressure level at which you want to plot.\n",
    "n = abs(p-p_plot).argmin() # This is a trick to find the index closest to the desired value.\n",
    "\n",
    "fig1 = plt.figure()\n",
    "ax1 = plt.subplot(111, projection=my_projection)\n",
    "ax1.add_feature(cartopy.feature.COASTLINE, linewidth=0.8)\n",
    "ax1.add_feature(cartopy.feature.BORDERS, linestyle='-', linewidth=.2)\n",
    "ax1.set_xticks(np.arange(-180, 181, 30), crs=my_projection)\n",
    "ax1.set_yticks(np.arange(-90, 91, 30), crs=my_projection)\n",
    "lon_formatter = LongitudeFormatter(zero_direction_label=True)\n",
    "lat_formatter = LatitudeFormatter()\n",
    "ax1.xaxis.set_major_formatter(lon_formatter)\n",
    "ax1.yaxis.set_major_formatter(lat_formatter)\n",
    "ax1.set_xlim(lon_start, lon_end)\n",
    "ax1.set_ylim(lat_start, lat_end)\n",
    "\n",
    "zeta_range = np.linspace(-1e-4, 1e-4, 21)\n",
    "cb = ax1.contourf(lon, lat, zeta[n,:,:], zeta_range, cmap=plt.cm.seismic, extend='both') \n",
    "fig1.colorbar(cb)\n",
    "ax1.contour(lon, lat, Phi[n,:,:], 15, colors='k', linewidths=1.5)\n",
    "ax1.set_title(r'$\\nabla \\times V$ at p = {0:.0f} hPa'.format(p[n]/100));\n",
    "fig1.tight_layout()"
   ]
  },
  {
   "cell_type": "code",
   "execution_count": null,
   "metadata": {},
   "outputs": [],
   "source": [
    "lat_plot = -55.\n",
    "j_lat = abs(lat - lat_plot).argmin()\n",
    "p_plot = 50000. # Choose the height in pressure level at which you want to plot.\n",
    "n = abs(p-p_plot).argmin() # This is a trick to find the index closest to the desired value."
   ]
  },
  {
   "cell_type": "code",
   "execution_count": null,
   "metadata": {
    "code_folding": [
     0
    ]
   },
   "outputs": [],
   "source": [
    "# Plots exercise 5.\n",
    "theta_range = np.linspace(250, 400, 21)\n",
    "fig1 = plt.figure()\n",
    "ax1 = plt.subplot(111)\n",
    "cb = ax1.contourf(lon, p, theta[:,j_lat,:], theta_range, cmap=my_cmap, extend=\"max\")\n",
    "fig1.colorbar(cb)\n",
    "cl = ax1.contour(lon, p, v[:,j_lat,:], 11, colors='k', linewidths=1.5)\n",
    "ax1.clabel(cl, fmt='%.0f')\n",
    "ax1.invert_yaxis()\n",
    "ax1.set_xlabel('lat (deg)')\n",
    "ax1.set_ylabel('p (Pa)')\n",
    "ax1.set_xlim(-90, 90)\n",
    "ax1.set_ylim(1e5, 0)\n",
    "fig1.tight_layout()\n",
    "\n",
    "fig1 = plt.figure()\n",
    "ax1 = plt.subplot(111)\n",
    "ax1.plot(lon, v[n, j_lat, :])\n",
    "ax1.grid()\n",
    "ax1.set_xlabel('lon')\n",
    "ax1.set_ylabel('v (m/s)');"
   ]
  },
  {
   "cell_type": "code",
   "execution_count": null,
   "metadata": {},
   "outputs": [],
   "source": [
    "dudx = (a_earth*cos_lat[np.newaxis,:,np.newaxis])**(-1) \\\n",
    "     * np.gradient(u, axis=2) / np.gradient(lonrad[np.newaxis, np.newaxis, :], axis=2)\n",
    "dvdy = (a_earth)**(-1) \\\n",
    "     * np.gradient(v, axis=1) / np.gradient(latrad[np.newaxis, :, np.newaxis], axis=1)\n",
    "domegadp = np.gradient(omega[:,:,:], axis=0) / np.gradient(p[:, np.newaxis, np.newaxis], axis=0)"
   ]
  },
  {
   "cell_type": "code",
   "execution_count": null,
   "metadata": {
    "code_folding": [
     0
    ]
   },
   "outputs": [],
   "source": [
    "# Plots Bonus exercise.\n",
    "p_plot = 30000. # Choose the height in pressure level at which you want to plot.\n",
    "n = abs(p-p_plot).argmin() # This is a trick to find the index closest to the desired value.\n",
    "\n",
    "fig1 = plt.figure()\n",
    "ax1 = plt.subplot(111, projection=my_projection)\n",
    "ax1.add_feature(cartopy.feature.COASTLINE, linewidth=0.8)\n",
    "ax1.add_feature(cartopy.feature.BORDERS, linestyle='-', linewidth=.2)\n",
    "ax1.set_xticks(np.arange(-180, 181, 30), crs=my_projection)\n",
    "ax1.set_yticks(np.arange(-90, 91, 30), crs=my_projection)\n",
    "lon_formatter = LongitudeFormatter(zero_direction_label=True)\n",
    "lat_formatter = LatitudeFormatter()\n",
    "ax1.xaxis.set_major_formatter(lon_formatter)\n",
    "ax1.yaxis.set_major_formatter(lat_formatter)\n",
    "ax1.set_xlim(lon_start, lon_end)\n",
    "ax1.set_ylim(lat_start, lat_end)\n",
    "\n",
    "cb = ax1.pcolormesh(lon, lat, dudx[n,:,:]+dvdy[n,:,:]+domegadp[n,:,:],  vmin=-1e-4, vmax=1e-4, cmap=plt.cm.seismic) \n",
    "fig1.colorbar(cb)\n",
    "ax1.contour(lon, lat, Phi[n,:,:], 15, colors='k', linewidths=1.5)\n",
    "ax1.set_title(r'$\\nabla \\cdot V$ at p = {0:.0f} hPa'.format(p[n]/100));\n",
    "fig1.tight_layout()\n",
    "\n",
    "fig1 = plt.figure()\n",
    "ax1 = plt.subplot(111, projection=my_projection)\n",
    "ax1.add_feature(cartopy.feature.COASTLINE, linewidth=0.8)\n",
    "ax1.add_feature(cartopy.feature.BORDERS, linestyle='-', linewidth=.2)\n",
    "ax1.set_xticks(np.arange(-180, 181, 30), crs=my_projection)\n",
    "ax1.set_yticks(np.arange(-90, 91, 30), crs=my_projection)\n",
    "lon_formatter = LongitudeFormatter(zero_direction_label=True)\n",
    "lat_formatter = LatitudeFormatter()\n",
    "ax1.xaxis.set_major_formatter(lon_formatter)\n",
    "ax1.yaxis.set_major_formatter(lat_formatter)\n",
    "ax1.set_xlim(lon_start, lon_end)\n",
    "ax1.set_ylim(lat_start, lat_end)\n",
    "\n",
    "cb = ax1.pcolormesh(lon, lat, dudx[n,:,:]+dvdy[n,:,:], vmin=-1e-4, vmax=1e-4, cmap=plt.cm.seismic) \n",
    "fig1.colorbar(cb)\n",
    "ax1.contour(lon, lat, Phi[n,:,:], 15, colors='k', linewidths=1.5)\n",
    "ax1.set_title(r'$\\nabla \\cdot V$ at p = {0:.0f} hPa'.format(p[n]/100));\n",
    "fig1.tight_layout()"
   ]
  },
  {
   "cell_type": "code",
   "execution_count": null,
   "metadata": {},
   "outputs": [],
   "source": []
  }
 ],
 "metadata": {
  "kernelspec": {
   "display_name": "Python 3 (ipykernel)",
   "language": "python",
   "name": "python3"
  },
  "language_info": {
   "codemirror_mode": {
    "name": "ipython",
    "version": 3
   },
   "file_extension": ".py",
   "mimetype": "text/x-python",
   "name": "python",
   "nbconvert_exporter": "python",
   "pygments_lexer": "ipython3",
   "version": "3.7.10"
  },
  "toc": {
   "colors": {
    "hover_highlight": "#DAA520",
    "navigate_num": "#000000",
    "navigate_text": "#333333",
    "running_highlight": "#FF0000",
    "selected_highlight": "#FFD700",
    "sidebar_border": "#EEEEEE",
    "wrapper_background": "#FFFFFF"
   },
   "moveMenuLeft": true,
   "nav_menu": {
    "height": "300px",
    "width": "252px"
   },
   "navigate_menu": true,
   "number_sections": true,
   "sideBar": true,
   "threshold": 4,
   "toc_cell": false,
   "toc_section_display": "block",
   "toc_window_display": false,
   "widenNotebook": false
  },
  "varInspector": {
   "cols": {
    "lenName": 16,
    "lenType": 16,
    "lenVar": 40
   },
   "kernels_config": {
    "python": {
     "delete_cmd_postfix": "",
     "delete_cmd_prefix": "del ",
     "library": "var_list.py",
     "varRefreshCmd": "print(var_dic_list())"
    },
    "r": {
     "delete_cmd_postfix": ") ",
     "delete_cmd_prefix": "rm(",
     "library": "var_list.r",
     "varRefreshCmd": "cat(var_dic_list()) "
    }
   },
   "types_to_exclude": [
    "module",
    "function",
    "builtin_function_or_method",
    "instance",
    "_Feature"
   ],
   "window_display": false
  }
 },
 "nbformat": 4,
 "nbformat_minor": 4
}
